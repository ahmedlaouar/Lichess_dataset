{
 "cells": [
  {
   "cell_type": "markdown",
   "metadata": {
    "id": "f_8Z5jc1xNEz"
   },
   "source": [
    "This notebook is part of the Data-Mining project, in which we are going to investigate the \"Chess Game Dataset\", The data can be found on Kaggle: \"www.kaggle.com/datasnaek/chess\"\n"
   ]
  },
  {
   "cell_type": "markdown",
   "metadata": {
    "id": "R1w_5NSDxz4u"
   },
   "source": [
    "A brief description of the dataset:\n",
    "The dataset consists of the records of more than 20,000 games of chess played on the web platform \"Lichess\", for every game we have 16 features:\n",
    "*   id: the id of the game.\n",
    "*   rated: False/True, indicates if the game is rated or not\n",
    "*   created_at : \n",
    "*   last_move_at\n",
    "*   turns: The number of turns played in the game.\n",
    "*   victory_status: the status of the game when ended (resigned, mate,...)\n",
    "*   winner : (white/black/draw)\n",
    "*   increment_code : time increment.\n",
    "*   white_id: the white player id.\n",
    "*   white_rating: the white player rating.\n",
    "*   black_id: the black player id.\n",
    "*   black_rating: the black player rating.\n",
    "*   moves all the moves of the game in standard chess notation.\n",
    "*   opening_eco: Standardised Code for any given opening (Encyclopaedia of Chess Openings), later on in this notebook we will encode each opening (using the name/eco) with its list of moves if needed. \n",
    "*   opening_name: The name of the opening.\n",
    "*   opening_ply: Number of moves in the opening phase.\n",
    "\n",
    "In the exploratory data analysis part of this notebook, we will discuss every feature of the previous features. \n",
    "\n",
    "Réalisé par: Laouar Ahmed\n",
    "M2_IA"
   ]
  },
  {
   "cell_type": "markdown",
   "metadata": {
    "id": "yt9txEOh3zJ9"
   },
   "source": [
    "# Importing Libraries and Loading Data"
   ]
  },
  {
   "cell_type": "code",
   "execution_count": 214,
   "metadata": {
    "id": "WgQnMWjT3yKX"
   },
   "outputs": [],
   "source": [
    "# data analysis libraries:\n",
    "import numpy as np\n",
    "import pandas as pd\n",
    "# data visualization libraries:\n",
    "import matplotlib.pyplot as plt\n",
    "import seaborn as sns\n",
    "sns.set(style=\"darkgrid\")\n",
    "import math\n",
    "# to display all columns:\n",
    "pd.set_option('display.max_columns', None)\n",
    "\n",
    "# to ignore warnings:\n",
    "import sys\n",
    "if not sys.warnoptions:\n",
    "    import os, warnings\n",
    "    warnings.simplefilter(\"ignore\") \n",
    "    os.environ[\"PYTHONWARNINGS\"] = \"ignore\" "
   ]
  },
  {
   "cell_type": "code",
   "execution_count": 215,
   "metadata": {
    "id": "2d1YIv-dxzTg"
   },
   "outputs": [],
   "source": [
    "data = pd.read_csv(r\"games.csv\")"
   ]
  },
  {
   "cell_type": "code",
   "execution_count": 216,
   "metadata": {
    "colab": {
     "base_uri": "https://localhost:8080/"
    },
    "id": "7uDGbwRxxIK0",
    "outputId": "636684d5-5a61-4df8-bf64-bcfdd8acbfc9"
   },
   "outputs": [
    {
     "name": "stdout",
     "output_type": "stream",
     "text": [
      "The size of the dataset is (20058, 16)\n"
     ]
    }
   ],
   "source": [
    "print(\"The size of the dataset is {}\".format(data.shape))"
   ]
  },
  {
   "cell_type": "code",
   "execution_count": 217,
   "metadata": {
    "colab": {
     "base_uri": "https://localhost:8080/"
    },
    "id": "8eBQQ-6S4d_7",
    "outputId": "2c9803a7-bfd8-4e3e-dc4c-9b035eff583e"
   },
   "outputs": [
    {
     "name": "stdout",
     "output_type": "stream",
     "text": [
      "<class 'pandas.core.frame.DataFrame'>\n",
      "RangeIndex: 20058 entries, 0 to 20057\n",
      "Data columns (total 16 columns):\n",
      " #   Column          Non-Null Count  Dtype  \n",
      "---  ------          --------------  -----  \n",
      " 0   id              20058 non-null  object \n",
      " 1   rated           20058 non-null  bool   \n",
      " 2   created_at      20058 non-null  float64\n",
      " 3   last_move_at    20058 non-null  float64\n",
      " 4   turns           20058 non-null  int64  \n",
      " 5   victory_status  20058 non-null  object \n",
      " 6   winner          20058 non-null  object \n",
      " 7   increment_code  20058 non-null  object \n",
      " 8   white_id        20058 non-null  object \n",
      " 9   white_rating    20058 non-null  int64  \n",
      " 10  black_id        20058 non-null  object \n",
      " 11  black_rating    20058 non-null  int64  \n",
      " 12  moves           20058 non-null  object \n",
      " 13  opening_eco     20058 non-null  object \n",
      " 14  opening_name    20058 non-null  object \n",
      " 15  opening_ply     20058 non-null  int64  \n",
      "dtypes: bool(1), float64(2), int64(4), object(9)\n",
      "memory usage: 2.3+ MB\n"
     ]
    }
   ],
   "source": [
    "data.info()"
   ]
  },
  {
   "cell_type": "markdown",
   "metadata": {
    "id": "tghPUYGs6jfE"
   },
   "source": [
    "# Exploratory Data Analysis"
   ]
  },
  {
   "cell_type": "code",
   "execution_count": 218,
   "metadata": {
    "colab": {
     "base_uri": "https://localhost:8080/",
     "height": 0
    },
    "id": "pLSbgdXZ4fd-",
    "outputId": "3627eed3-7ce4-40a5-ec09-2dfe817710c2"
   },
   "outputs": [
    {
     "data": {
      "text/html": [
       "<div>\n",
       "<style scoped>\n",
       "    .dataframe tbody tr th:only-of-type {\n",
       "        vertical-align: middle;\n",
       "    }\n",
       "\n",
       "    .dataframe tbody tr th {\n",
       "        vertical-align: top;\n",
       "    }\n",
       "\n",
       "    .dataframe thead th {\n",
       "        text-align: right;\n",
       "    }\n",
       "</style>\n",
       "<table border=\"1\" class=\"dataframe\">\n",
       "  <thead>\n",
       "    <tr style=\"text-align: right;\">\n",
       "      <th></th>\n",
       "      <th>id</th>\n",
       "      <th>rated</th>\n",
       "      <th>created_at</th>\n",
       "      <th>last_move_at</th>\n",
       "      <th>turns</th>\n",
       "      <th>victory_status</th>\n",
       "      <th>winner</th>\n",
       "      <th>increment_code</th>\n",
       "      <th>white_id</th>\n",
       "      <th>white_rating</th>\n",
       "      <th>black_id</th>\n",
       "      <th>black_rating</th>\n",
       "      <th>moves</th>\n",
       "      <th>opening_eco</th>\n",
       "      <th>opening_name</th>\n",
       "      <th>opening_ply</th>\n",
       "    </tr>\n",
       "  </thead>\n",
       "  <tbody>\n",
       "    <tr>\n",
       "      <th>13064</th>\n",
       "      <td>7HD3qUG1</td>\n",
       "      <td>True</td>\n",
       "      <td>1.494580e+12</td>\n",
       "      <td>1.494580e+12</td>\n",
       "      <td>44</td>\n",
       "      <td>resign</td>\n",
       "      <td>black</td>\n",
       "      <td>5+5</td>\n",
       "      <td>dkorezin5</td>\n",
       "      <td>1371</td>\n",
       "      <td>amir337</td>\n",
       "      <td>1432</td>\n",
       "      <td>e4 e5 Nf3 Nc6 Bc4 d6 O-O Bg4 c3 Nf6 b4 Nxe4 d3...</td>\n",
       "      <td>C50</td>\n",
       "      <td>Italian Game</td>\n",
       "      <td>5</td>\n",
       "    </tr>\n",
       "    <tr>\n",
       "      <th>1107</th>\n",
       "      <td>CzyKEMYc</td>\n",
       "      <td>True</td>\n",
       "      <td>1.497430e+12</td>\n",
       "      <td>1.497430e+12</td>\n",
       "      <td>35</td>\n",
       "      <td>resign</td>\n",
       "      <td>white</td>\n",
       "      <td>20+10</td>\n",
       "      <td>olek333</td>\n",
       "      <td>1833</td>\n",
       "      <td>s-a</td>\n",
       "      <td>1873</td>\n",
       "      <td>d4 Nf6 Bg5 c5 Bxf6 exf6 dxc5 Bxc5 Nf3 Qb6 e3 Q...</td>\n",
       "      <td>A45</td>\n",
       "      <td>Trompowsky Attack</td>\n",
       "      <td>3</td>\n",
       "    </tr>\n",
       "  </tbody>\n",
       "</table>\n",
       "</div>"
      ],
      "text/plain": [
       "             id  rated    created_at  last_move_at  turns victory_status  \\\n",
       "13064  7HD3qUG1   True  1.494580e+12  1.494580e+12     44         resign   \n",
       "1107   CzyKEMYc   True  1.497430e+12  1.497430e+12     35         resign   \n",
       "\n",
       "      winner increment_code   white_id  white_rating black_id  black_rating  \\\n",
       "13064  black            5+5  dkorezin5          1371  amir337          1432   \n",
       "1107   white          20+10    olek333          1833      s-a          1873   \n",
       "\n",
       "                                                   moves opening_eco  \\\n",
       "13064  e4 e5 Nf3 Nc6 Bc4 d6 O-O Bg4 c3 Nf6 b4 Nxe4 d3...         C50   \n",
       "1107   d4 Nf6 Bg5 c5 Bxf6 exf6 dxc5 Bxc5 Nf3 Qb6 e3 Q...         A45   \n",
       "\n",
       "            opening_name  opening_ply  \n",
       "13064       Italian Game            5  \n",
       "1107   Trompowsky Attack            3  "
      ]
     },
     "execution_count": 218,
     "metadata": {},
     "output_type": "execute_result"
    }
   ],
   "source": [
    "data.sample(2)"
   ]
  },
  {
   "cell_type": "code",
   "execution_count": 219,
   "metadata": {
    "colab": {
     "base_uri": "https://localhost:8080/"
    },
    "id": "q9XPQQJA4hdr",
    "outputId": "f0670966-e1dc-4e2f-d65f-2fde1a1d29e4"
   },
   "outputs": [
    {
     "name": "stdout",
     "output_type": "stream",
     "text": [
      "missing values:\n",
      "Found a total of 0 missing values\n"
     ]
    }
   ],
   "source": [
    "#function to check for missing values\n",
    "def missing_values(data):\n",
    "    co = 0\n",
    "    for col in data.columns.tolist():          \n",
    "        if data[col].isnull().any():\n",
    "            co += 1\n",
    "            print('\"{}\" column missing values: {}'.format(col, data[col].isnull().sum()))\n",
    "    print(\"Found a total of {} missing values\".format(co))\n",
    "print('missing values:')\n",
    "missing_values(data)"
   ]
  },
  {
   "cell_type": "markdown",
   "metadata": {
    "id": "8hlCu_ij5S_l"
   },
   "source": [
    "Describe numerical features"
   ]
  },
  {
   "cell_type": "code",
   "execution_count": 220,
   "metadata": {
    "colab": {
     "base_uri": "https://localhost:8080/",
     "height": 0
    },
    "id": "rA7ZY2Vl5I2V",
    "outputId": "8688fc1a-4bd3-4631-b343-0010f1cb5ba1"
   },
   "outputs": [
    {
     "data": {
      "text/html": [
       "<div>\n",
       "<style scoped>\n",
       "    .dataframe tbody tr th:only-of-type {\n",
       "        vertical-align: middle;\n",
       "    }\n",
       "\n",
       "    .dataframe tbody tr th {\n",
       "        vertical-align: top;\n",
       "    }\n",
       "\n",
       "    .dataframe thead th {\n",
       "        text-align: right;\n",
       "    }\n",
       "</style>\n",
       "<table border=\"1\" class=\"dataframe\">\n",
       "  <thead>\n",
       "    <tr style=\"text-align: right;\">\n",
       "      <th></th>\n",
       "      <th>created_at</th>\n",
       "      <th>last_move_at</th>\n",
       "      <th>turns</th>\n",
       "      <th>white_rating</th>\n",
       "      <th>black_rating</th>\n",
       "      <th>opening_ply</th>\n",
       "    </tr>\n",
       "  </thead>\n",
       "  <tbody>\n",
       "    <tr>\n",
       "      <th>count</th>\n",
       "      <td>2.005800e+04</td>\n",
       "      <td>2.005800e+04</td>\n",
       "      <td>20058.000000</td>\n",
       "      <td>20058.000000</td>\n",
       "      <td>20058.000000</td>\n",
       "      <td>20058.000000</td>\n",
       "    </tr>\n",
       "    <tr>\n",
       "      <th>mean</th>\n",
       "      <td>1.483617e+12</td>\n",
       "      <td>1.483618e+12</td>\n",
       "      <td>60.465999</td>\n",
       "      <td>1596.631868</td>\n",
       "      <td>1588.831987</td>\n",
       "      <td>4.816981</td>\n",
       "    </tr>\n",
       "    <tr>\n",
       "      <th>std</th>\n",
       "      <td>2.850151e+10</td>\n",
       "      <td>2.850140e+10</td>\n",
       "      <td>33.570585</td>\n",
       "      <td>291.253376</td>\n",
       "      <td>291.036126</td>\n",
       "      <td>2.797152</td>\n",
       "    </tr>\n",
       "    <tr>\n",
       "      <th>min</th>\n",
       "      <td>1.376772e+12</td>\n",
       "      <td>1.376772e+12</td>\n",
       "      <td>1.000000</td>\n",
       "      <td>784.000000</td>\n",
       "      <td>789.000000</td>\n",
       "      <td>1.000000</td>\n",
       "    </tr>\n",
       "    <tr>\n",
       "      <th>10%</th>\n",
       "      <td>1.441480e+12</td>\n",
       "      <td>1.441480e+12</td>\n",
       "      <td>22.000000</td>\n",
       "      <td>1236.000000</td>\n",
       "      <td>1226.000000</td>\n",
       "      <td>2.000000</td>\n",
       "    </tr>\n",
       "    <tr>\n",
       "      <th>25%</th>\n",
       "      <td>1.477548e+12</td>\n",
       "      <td>1.477548e+12</td>\n",
       "      <td>37.000000</td>\n",
       "      <td>1398.000000</td>\n",
       "      <td>1391.000000</td>\n",
       "      <td>3.000000</td>\n",
       "    </tr>\n",
       "    <tr>\n",
       "      <th>50%</th>\n",
       "      <td>1.496010e+12</td>\n",
       "      <td>1.496010e+12</td>\n",
       "      <td>55.000000</td>\n",
       "      <td>1567.000000</td>\n",
       "      <td>1562.000000</td>\n",
       "      <td>4.000000</td>\n",
       "    </tr>\n",
       "    <tr>\n",
       "      <th>75%</th>\n",
       "      <td>1.503170e+12</td>\n",
       "      <td>1.503170e+12</td>\n",
       "      <td>79.000000</td>\n",
       "      <td>1793.000000</td>\n",
       "      <td>1784.000000</td>\n",
       "      <td>6.000000</td>\n",
       "    </tr>\n",
       "    <tr>\n",
       "      <th>max</th>\n",
       "      <td>1.504493e+12</td>\n",
       "      <td>1.504494e+12</td>\n",
       "      <td>349.000000</td>\n",
       "      <td>2700.000000</td>\n",
       "      <td>2723.000000</td>\n",
       "      <td>28.000000</td>\n",
       "    </tr>\n",
       "  </tbody>\n",
       "</table>\n",
       "</div>"
      ],
      "text/plain": [
       "         created_at  last_move_at         turns  white_rating  black_rating  \\\n",
       "count  2.005800e+04  2.005800e+04  20058.000000  20058.000000  20058.000000   \n",
       "mean   1.483617e+12  1.483618e+12     60.465999   1596.631868   1588.831987   \n",
       "std    2.850151e+10  2.850140e+10     33.570585    291.253376    291.036126   \n",
       "min    1.376772e+12  1.376772e+12      1.000000    784.000000    789.000000   \n",
       "10%    1.441480e+12  1.441480e+12     22.000000   1236.000000   1226.000000   \n",
       "25%    1.477548e+12  1.477548e+12     37.000000   1398.000000   1391.000000   \n",
       "50%    1.496010e+12  1.496010e+12     55.000000   1567.000000   1562.000000   \n",
       "75%    1.503170e+12  1.503170e+12     79.000000   1793.000000   1784.000000   \n",
       "max    1.504493e+12  1.504494e+12    349.000000   2700.000000   2723.000000   \n",
       "\n",
       "        opening_ply  \n",
       "count  20058.000000  \n",
       "mean       4.816981  \n",
       "std        2.797152  \n",
       "min        1.000000  \n",
       "10%        2.000000  \n",
       "25%        3.000000  \n",
       "50%        4.000000  \n",
       "75%        6.000000  \n",
       "max       28.000000  "
      ]
     },
     "execution_count": 220,
     "metadata": {},
     "output_type": "execute_result"
    }
   ],
   "source": [
    "data.describe([0.1, 0.25, 0.5, 0.75])"
   ]
  },
  {
   "cell_type": "markdown",
   "metadata": {
    "id": "RRJcJzDM5lgr"
   },
   "source": [
    "Describe categorical features"
   ]
  },
  {
   "cell_type": "code",
   "execution_count": 221,
   "metadata": {
    "colab": {
     "base_uri": "https://localhost:8080/",
     "height": 0
    },
    "id": "Ev20YBAQ5dVx",
    "outputId": "d082bd4c-85c6-46fe-cd62-4c59da51260c"
   },
   "outputs": [
    {
     "data": {
      "text/html": [
       "<div>\n",
       "<style scoped>\n",
       "    .dataframe tbody tr th:only-of-type {\n",
       "        vertical-align: middle;\n",
       "    }\n",
       "\n",
       "    .dataframe tbody tr th {\n",
       "        vertical-align: top;\n",
       "    }\n",
       "\n",
       "    .dataframe thead th {\n",
       "        text-align: right;\n",
       "    }\n",
       "</style>\n",
       "<table border=\"1\" class=\"dataframe\">\n",
       "  <thead>\n",
       "    <tr style=\"text-align: right;\">\n",
       "      <th></th>\n",
       "      <th>count</th>\n",
       "      <th>unique</th>\n",
       "      <th>top</th>\n",
       "      <th>freq</th>\n",
       "    </tr>\n",
       "  </thead>\n",
       "  <tbody>\n",
       "    <tr>\n",
       "      <th>id</th>\n",
       "      <td>20058</td>\n",
       "      <td>19113</td>\n",
       "      <td>XRuQPSzH</td>\n",
       "      <td>5</td>\n",
       "    </tr>\n",
       "    <tr>\n",
       "      <th>victory_status</th>\n",
       "      <td>20058</td>\n",
       "      <td>4</td>\n",
       "      <td>resign</td>\n",
       "      <td>11147</td>\n",
       "    </tr>\n",
       "    <tr>\n",
       "      <th>winner</th>\n",
       "      <td>20058</td>\n",
       "      <td>3</td>\n",
       "      <td>white</td>\n",
       "      <td>10001</td>\n",
       "    </tr>\n",
       "    <tr>\n",
       "      <th>increment_code</th>\n",
       "      <td>20058</td>\n",
       "      <td>400</td>\n",
       "      <td>10+0</td>\n",
       "      <td>7721</td>\n",
       "    </tr>\n",
       "    <tr>\n",
       "      <th>white_id</th>\n",
       "      <td>20058</td>\n",
       "      <td>9438</td>\n",
       "      <td>taranga</td>\n",
       "      <td>72</td>\n",
       "    </tr>\n",
       "    <tr>\n",
       "      <th>black_id</th>\n",
       "      <td>20058</td>\n",
       "      <td>9331</td>\n",
       "      <td>taranga</td>\n",
       "      <td>82</td>\n",
       "    </tr>\n",
       "    <tr>\n",
       "      <th>moves</th>\n",
       "      <td>20058</td>\n",
       "      <td>18920</td>\n",
       "      <td>e4 e5</td>\n",
       "      <td>27</td>\n",
       "    </tr>\n",
       "    <tr>\n",
       "      <th>opening_eco</th>\n",
       "      <td>20058</td>\n",
       "      <td>365</td>\n",
       "      <td>A00</td>\n",
       "      <td>1007</td>\n",
       "    </tr>\n",
       "    <tr>\n",
       "      <th>opening_name</th>\n",
       "      <td>20058</td>\n",
       "      <td>1477</td>\n",
       "      <td>Van't Kruijs Opening</td>\n",
       "      <td>368</td>\n",
       "    </tr>\n",
       "  </tbody>\n",
       "</table>\n",
       "</div>"
      ],
      "text/plain": [
       "                count unique                   top   freq\n",
       "id              20058  19113              XRuQPSzH      5\n",
       "victory_status  20058      4                resign  11147\n",
       "winner          20058      3                 white  10001\n",
       "increment_code  20058    400                  10+0   7721\n",
       "white_id        20058   9438               taranga     72\n",
       "black_id        20058   9331               taranga     82\n",
       "moves           20058  18920                 e4 e5     27\n",
       "opening_eco     20058    365                   A00   1007\n",
       "opening_name    20058   1477  Van't Kruijs Opening    368"
      ]
     },
     "execution_count": 221,
     "metadata": {},
     "output_type": "execute_result"
    }
   ],
   "source": [
    "data.describe(include=[\"O\"]).T"
   ]
  },
  {
   "cell_type": "markdown",
   "metadata": {
    "id": "rVECEMBN_shc"
   },
   "source": [
    "From the description of the features:\n",
    "\n",
    "we will be intrested more in the analysis phase on: \n",
    "the following discrete variables:\n",
    "*   rated.\n",
    "*   victory_status.\n",
    "*   winner.\n",
    "*   opening name.\n",
    "\n",
    "and the following continuous variables:\n",
    "*   turns.\n",
    "*   white rating.\n",
    "*   black rating.\n"
   ]
  },
  {
   "cell_type": "markdown",
   "metadata": {
    "id": "PY1iEGKr6gLO"
   },
   "source": [
    "Visualisation of the distribution of the discrete features"
   ]
  },
  {
   "cell_type": "code",
   "execution_count": 222,
   "metadata": {
    "colab": {
     "base_uri": "https://localhost:8080/",
     "height": 0
    },
    "id": "1g8fiHm581l7",
    "outputId": "a5a95e46-8fa0-455d-aac0-f835d2e835d2"
   },
   "outputs": [
    {
     "data": {
      "image/png": "[encoded data removed]",
      "text/plain": [
       "<Figure size 432x288 with 1 Axes>"
      ]
     },
     "metadata": {},
     "output_type": "display_data"
    }
   ],
   "source": [
    "p = sns.countplot(x=data['rated'])\n",
    "plt.show()"
   ]
  },
  {
   "cell_type": "code",
   "execution_count": 223,
   "metadata": {
    "colab": {
     "base_uri": "https://localhost:8080/",
     "height": 0
    },
    "id": "_hbjJwGdHGjf",
    "outputId": "6f8f4bb1-7988-4881-d1dc-5bcc3745998d"
   },
   "outputs": [
    {
     "data": {
      "image/png": "[encoded data removed]",
      "text/plain": [
       "<Figure size 432x288 with 1 Axes>"
      ]
     },
     "metadata": {},
     "output_type": "display_data"
    }
   ],
   "source": [
    "p = sns.countplot(x=data['winner'])\n",
    "plt.show()"
   ]
  },
  {
   "cell_type": "code",
   "execution_count": 224,
   "metadata": {
    "colab": {
     "base_uri": "https://localhost:8080/",
     "height": 0
    },
    "id": "-z0QhHEa6FPb",
    "outputId": "833be9db-83be-48d4-fdc6-beb273e64adb"
   },
   "outputs": [
    {
     "data": {
      "image/png": "[encoded data removed]",
      "text/plain": [
       "<Figure size 432x288 with 1 Axes>"
      ]
     },
     "metadata": {},
     "output_type": "display_data"
    }
   ],
   "source": [
    "p = sns.countplot(x=data['winner'], hue=data['rated'])\n",
    "plt.show()"
   ]
  },
  {
   "cell_type": "code",
   "execution_count": 225,
   "metadata": {
    "colab": {
     "base_uri": "https://localhost:8080/",
     "height": 0
    },
    "id": "4c8zXKcg9X0M",
    "outputId": "f2160eb2-8b90-4c3e-d188-b391fc718288"
   },
   "outputs": [
    {
     "data": {
      "image/png": "[encoded data removed]",
      "text/plain": [
       "<Figure size 864x432 with 1 Axes>"
      ]
     },
     "metadata": {},
     "output_type": "display_data"
    }
   ],
   "source": [
    "#checking the distribution of the opening_ply (number of moves of the opening phase)\n",
    "fig, axs = plt.subplots(figsize=(12, 6))\n",
    "sns.histplot(x=data['opening_ply'], kde=True)\n",
    "plt.show()"
   ]
  },
  {
   "cell_type": "markdown",
   "metadata": {
    "id": "hfYIcQJl7sbc"
   },
   "source": [
    "Visualisation of the distribution of the number of turns in the dataset"
   ]
  },
  {
   "cell_type": "code",
   "execution_count": 226,
   "metadata": {
    "colab": {
     "base_uri": "https://localhost:8080/",
     "height": 0
    },
    "id": "1-CZqVKg7EUL",
    "outputId": "cb6eaf34-871a-43a7-9d73-486e9a5258fe"
   },
   "outputs": [
    {
     "data": {
      "image/png": "[encoded data removed]",
      "text/plain": [
       "<Figure size 864x432 with 1 Axes>"
      ]
     },
     "metadata": {},
     "output_type": "display_data"
    }
   ],
   "source": [
    "fig, axs = plt.subplots(figsize=(12, 6))\n",
    "sns.histplot(data=data['turns'], kde=True)\n",
    "plt.show()"
   ]
  },
  {
   "cell_type": "markdown",
   "metadata": {
    "id": "iFmv7MM2vq6L"
   },
   "source": [
    "The number of turns of every game grouped by the winner (draw, black, white)"
   ]
  },
  {
   "cell_type": "code",
   "execution_count": 227,
   "metadata": {
    "colab": {
     "base_uri": "https://localhost:8080/",
     "height": 0
    },
    "id": "8BsXFE_j7SCu",
    "outputId": "3beac73c-ba93-4e42-b28a-5630a247babc"
   },
   "outputs": [
    {
     "data": {
      "text/html": [
       "<div>\n",
       "<style scoped>\n",
       "    .dataframe tbody tr th:only-of-type {\n",
       "        vertical-align: middle;\n",
       "    }\n",
       "\n",
       "    .dataframe tbody tr th {\n",
       "        vertical-align: top;\n",
       "    }\n",
       "\n",
       "    .dataframe thead th {\n",
       "        text-align: right;\n",
       "    }\n",
       "</style>\n",
       "<table border=\"1\" class=\"dataframe\">\n",
       "  <thead>\n",
       "    <tr style=\"text-align: right;\">\n",
       "      <th></th>\n",
       "      <th>winner</th>\n",
       "      <th>turns</th>\n",
       "    </tr>\n",
       "  </thead>\n",
       "  <tbody>\n",
       "    <tr>\n",
       "      <th>1</th>\n",
       "      <td>draw</td>\n",
       "      <td>86.157895</td>\n",
       "    </tr>\n",
       "    <tr>\n",
       "      <th>0</th>\n",
       "      <td>black</td>\n",
       "      <td>60.724388</td>\n",
       "    </tr>\n",
       "    <tr>\n",
       "      <th>2</th>\n",
       "      <td>white</td>\n",
       "      <td>57.790221</td>\n",
       "    </tr>\n",
       "  </tbody>\n",
       "</table>\n",
       "</div>"
      ],
      "text/plain": [
       "  winner      turns\n",
       "1   draw  86.157895\n",
       "0  black  60.724388\n",
       "2  white  57.790221"
      ]
     },
     "execution_count": 227,
     "metadata": {},
     "output_type": "execute_result"
    }
   ],
   "source": [
    "data[[\"winner\",\"turns\"]].groupby('winner', as_index=False).mean().sort_values(by='turns', ascending=False)"
   ]
  },
  {
   "cell_type": "markdown",
   "metadata": {
    "id": "PwKIWuq1v6f4"
   },
   "source": [
    "The number of turns of every game grouped by the victory status of the game"
   ]
  },
  {
   "cell_type": "code",
   "execution_count": 228,
   "metadata": {
    "colab": {
     "base_uri": "https://localhost:8080/",
     "height": 0
    },
    "id": "g2JsnF1qKGXJ",
    "outputId": "a741e74e-ca49-45d8-d67d-66bf161a210e"
   },
   "outputs": [
    {
     "data": {
      "text/html": [
       "<div>\n",
       "<style scoped>\n",
       "    .dataframe tbody tr th:only-of-type {\n",
       "        vertical-align: middle;\n",
       "    }\n",
       "\n",
       "    .dataframe tbody tr th {\n",
       "        vertical-align: top;\n",
       "    }\n",
       "\n",
       "    .dataframe thead th {\n",
       "        text-align: right;\n",
       "    }\n",
       "</style>\n",
       "<table border=\"1\" class=\"dataframe\">\n",
       "  <thead>\n",
       "    <tr style=\"text-align: right;\">\n",
       "      <th></th>\n",
       "      <th>victory_status</th>\n",
       "      <th>turns</th>\n",
       "    </tr>\n",
       "  </thead>\n",
       "  <tbody>\n",
       "    <tr>\n",
       "      <th>0</th>\n",
       "      <td>draw</td>\n",
       "      <td>83.781457</td>\n",
       "    </tr>\n",
       "    <tr>\n",
       "      <th>2</th>\n",
       "      <td>outoftime</td>\n",
       "      <td>72.742857</td>\n",
       "    </tr>\n",
       "    <tr>\n",
       "      <th>1</th>\n",
       "      <td>mate</td>\n",
       "      <td>65.415020</td>\n",
       "    </tr>\n",
       "    <tr>\n",
       "      <th>3</th>\n",
       "      <td>resign</td>\n",
       "      <td>53.912533</td>\n",
       "    </tr>\n",
       "  </tbody>\n",
       "</table>\n",
       "</div>"
      ],
      "text/plain": [
       "  victory_status      turns\n",
       "0           draw  83.781457\n",
       "2      outoftime  72.742857\n",
       "1           mate  65.415020\n",
       "3         resign  53.912533"
      ]
     },
     "execution_count": 228,
     "metadata": {},
     "output_type": "execute_result"
    }
   ],
   "source": [
    "data[[\"victory_status\",\"turns\"]].groupby('victory_status', as_index=False).mean().sort_values(by='turns', ascending=False)"
   ]
  },
  {
   "cell_type": "markdown",
   "metadata": {
    "id": "6TVkhjjNK1Xb"
   },
   "source": [
    "The rate of games ended with a draw"
   ]
  },
  {
   "cell_type": "code",
   "execution_count": 229,
   "metadata": {
    "colab": {
     "base_uri": "https://localhost:8080/"
    },
    "id": "0pa_iX4KLWim",
    "outputId": "ca30e70a-a2ff-4388-d743-c881a432a51e"
   },
   "outputs": [
    {
     "name": "stdout",
     "output_type": "stream",
     "text": [
      "The rate of games ended in a draw = 4.736%\n"
     ]
    }
   ],
   "source": [
    "print(\"The rate of games ended in a draw = {:.3f}%\".format((data.loc[(data['winner'] == 'draw')].shape[0])*100/data.shape[0]))"
   ]
  },
  {
   "cell_type": "markdown",
   "metadata": {
    "id": "rq5gR0AwE3PL"
   },
   "source": [
    "Most used openings"
   ]
  },
  {
   "cell_type": "code",
   "execution_count": 230,
   "metadata": {
    "colab": {
     "base_uri": "https://localhost:8080/"
    },
    "id": "sLMOUqDsdZMF",
    "outputId": "ef5d7f2e-0a50-471f-87a8-cdd1fed15e7d"
   },
   "outputs": [
    {
     "data": {
      "text/plain": [
       "1477"
      ]
     },
     "execution_count": 230,
     "metadata": {},
     "output_type": "execute_result"
    }
   ],
   "source": [
    "len(data[\"opening_name\"].value_counts())"
   ]
  },
  {
   "cell_type": "markdown",
   "metadata": {
    "id": "Jy50cqJtdjvy"
   },
   "source": [
    "A high number of openings! looks like we have a lot of duplicates with a slightly difference in the name, let's perform some changes to bring them to normal."
   ]
  },
  {
   "cell_type": "code",
   "execution_count": 231,
   "metadata": {
    "id": "oDWOLOUUd6eT"
   },
   "outputs": [],
   "source": [
    "data[\"opening_name\"] = data[\"opening_name\"].apply(lambda x: x.split(\":\")[0])\n",
    "data[\"opening_name\"] = data[\"opening_name\"].apply(lambda x: x.split(\" |\")[0])\n",
    "data[\"opening_name\"] = data[\"opening_name\"].apply(lambda x: x.split(\" #\")[0])\n",
    "data[\"opening_name\"] = data[\"opening_name\"].apply(lambda x: x.split(\" Accepted\")[0])\n",
    "data[\"opening_name\"] = data[\"opening_name\"].apply(lambda x: x.split(\" Declined\")[0])\n",
    "data[\"opening_name\"] = data[\"opening_name\"].apply(lambda x: x.split(\" Refused\")[0])\n",
    "\n",
    "data[\"opening_name\"].replace(\"King's Pawn Game\", \"King's Pawn\", inplace = True)\n",
    "data[\"opening_name\"].replace(\"King's Pawn Opening\", \"King's Pawn\", inplace = True)\n",
    "data[\"opening_name\"].replace(\"Old Indian Defense\", \"Old Indian\", inplace = True)\n",
    "data[\"opening_name\"].replace(\"Queen's Pawn Game\", \"Queen's Pawn\", inplace = True)\n",
    "data[\"opening_name\"].replace(\"Queen's Pawn Opening\", \"Queen's Pawn\", inplace = True)\n",
    "data[\"opening_name\"].replace(\"Ware Defense\", \"Ware Opening\", inplace = True)"
   ]
  },
  {
   "cell_type": "code",
   "execution_count": 232,
   "metadata": {
    "colab": {
     "base_uri": "https://localhost:8080/"
    },
    "id": "B86a7yMUd9iS",
    "outputId": "b6eb5623-606a-45c0-f096-895937bdb80e"
   },
   "outputs": [
    {
     "data": {
      "text/plain": [
       "122"
      ]
     },
     "execution_count": 232,
     "metadata": {},
     "output_type": "execute_result"
    }
   ],
   "source": [
    "len(data[\"opening_name\"].value_counts())"
   ]
  },
  {
   "cell_type": "markdown",
   "metadata": {
    "id": "6lrxlpGHeSlT"
   },
   "source": [
    "Now we have a more realistic number of opening names, let's perform our analysis"
   ]
  },
  {
   "cell_type": "code",
   "execution_count": 233,
   "metadata": {
    "colab": {
     "base_uri": "https://localhost:8080/"
    },
    "id": "Ver8NmuQPxCy",
    "outputId": "4af13732-38d9-44eb-ffd5-d3a063f2b454"
   },
   "outputs": [
    {
     "name": "stdout",
     "output_type": "stream",
     "text": [
      "         opening_name  size\n",
      "104  Sicilian Defense  2632\n",
      "38     French Defense  1412\n",
      "90       Queen's Pawn  1376\n",
      "52       Italian Game   981\n",
      "60        King's Pawn   948\n"
     ]
    }
   ],
   "source": [
    "mu_open = data.groupby('opening_name', as_index=False).size().sort_values(by='size', ascending=False)\n",
    "print(mu_open.head(5))"
   ]
  },
  {
   "cell_type": "markdown",
   "metadata": {
    "id": "PGaC_W5OFdOZ"
   },
   "source": [
    "Most used opening used by black to win"
   ]
  },
  {
   "cell_type": "code",
   "execution_count": 234,
   "metadata": {
    "colab": {
     "base_uri": "https://localhost:8080/"
    },
    "id": "nBh4cPIMFcyy",
    "outputId": "5c4e263b-242b-4a97-e006-0156ceaabecf"
   },
   "outputs": [
    {
     "name": "stdout",
     "output_type": "stream",
     "text": [
      "        opening_name  size\n",
      "95  Sicilian Defense  1299\n",
      "35    French Defense   653\n",
      "82      Queen's Pawn   646\n",
      "47      Italian Game   451\n",
      "55       King's Pawn   450\n"
     ]
    }
   ],
   "source": [
    "wb_open = data[data['winner'] == 'black'].groupby('opening_name', as_index=False).size().sort_values(by='size', ascending=False)\n",
    "print(wb_open.head(5))"
   ]
  },
  {
   "cell_type": "markdown",
   "metadata": {
    "id": "1Sl6eAldGM7b"
   },
   "source": [
    "Most used opening by white to win"
   ]
  },
  {
   "cell_type": "code",
   "execution_count": 235,
   "metadata": {
    "colab": {
     "base_uri": "https://localhost:8080/"
    },
    "id": "YJRcCsYrF3Gv",
    "outputId": "782b0fa2-70f1-46c8-cf6f-b46a99247e69"
   },
   "outputs": [
    {
     "name": "stdout",
     "output_type": "stream",
     "text": [
      "         opening_name  size\n",
      "101  Sicilian Defense  1203\n",
      "36     French Defense   689\n",
      "87       Queen's Pawn   664\n",
      "84     Queen's Gambit   512\n",
      "49       Italian Game   483\n"
     ]
    }
   ],
   "source": [
    "ww_open = data[data['winner'] == 'white'].groupby('opening_name', as_index=False).size().sort_values(by='size', ascending=False)\n",
    "print(ww_open.head(5))"
   ]
  },
  {
   "cell_type": "markdown",
   "metadata": {
    "id": "jpb4bfgRPt-s"
   },
   "source": [
    "The distribution of opening moves in terms of the winner "
   ]
  },
  {
   "cell_type": "code",
   "execution_count": 236,
   "metadata": {
    "colab": {
     "base_uri": "https://localhost:8080/",
     "height": 0
    },
    "id": "7zrTnbQJN0I1",
    "outputId": "3fdd24df-d66b-4df5-cd67-6b969efeee84"
   },
   "outputs": [
    {
     "data": {
      "text/html": [
       "<div>\n",
       "<style scoped>\n",
       "    .dataframe tbody tr th:only-of-type {\n",
       "        vertical-align: middle;\n",
       "    }\n",
       "\n",
       "    .dataframe tbody tr th {\n",
       "        vertical-align: top;\n",
       "    }\n",
       "\n",
       "    .dataframe thead th {\n",
       "        text-align: right;\n",
       "    }\n",
       "</style>\n",
       "<table border=\"1\" class=\"dataframe\">\n",
       "  <thead>\n",
       "    <tr style=\"text-align: right;\">\n",
       "      <th></th>\n",
       "      <th>262</th>\n",
       "      <th>264</th>\n",
       "      <th>95</th>\n",
       "      <th>227</th>\n",
       "      <th>93</th>\n",
       "      <th>225</th>\n",
       "      <th>220</th>\n",
       "      <th>128</th>\n",
       "      <th>150</th>\n",
       "      <th>246</th>\n",
       "      <th>126</th>\n",
       "      <th>148</th>\n",
       "      <th>203</th>\n",
       "      <th>81</th>\n",
       "      <th>218</th>\n",
       "      <th>251</th>\n",
       "      <th>244</th>\n",
       "      <th>249</th>\n",
       "      <th>79</th>\n",
       "      <th>44</th>\n",
       "      <th>42</th>\n",
       "      <th>201</th>\n",
       "      <th>256</th>\n",
       "      <th>292</th>\n",
       "      <th>254</th>\n",
       "      <th>90</th>\n",
       "      <th>28</th>\n",
       "      <th>307</th>\n",
       "      <th>122</th>\n",
       "      <th>88</th>\n",
       "      <th>206</th>\n",
       "      <th>181</th>\n",
       "      <th>243</th>\n",
       "      <th>136</th>\n",
       "      <th>263</th>\n",
       "      <th>305</th>\n",
       "      <th>294</th>\n",
       "      <th>124</th>\n",
       "      <th>26</th>\n",
       "      <th>167</th>\n",
       "      <th>204</th>\n",
       "      <th>265</th>\n",
       "      <th>267</th>\n",
       "      <th>118</th>\n",
       "      <th>147</th>\n",
       "      <th>2</th>\n",
       "      <th>169</th>\n",
       "      <th>241</th>\n",
       "      <th>144</th>\n",
       "      <th>119</th>\n",
       "      <th>116</th>\n",
       "      <th>49</th>\n",
       "      <th>142</th>\n",
       "      <th>134</th>\n",
       "      <th>190</th>\n",
       "      <th>23</th>\n",
       "      <th>176</th>\n",
       "      <th>192</th>\n",
       "      <th>121</th>\n",
       "      <th>50</th>\n",
       "      <th>0</th>\n",
       "      <th>178</th>\n",
       "      <th>145</th>\n",
       "      <th>175</th>\n",
       "      <th>297</th>\n",
       "      <th>173</th>\n",
       "      <th>94</th>\n",
       "      <th>179</th>\n",
       "      <th>226</th>\n",
       "      <th>161</th>\n",
       "      <th>69</th>\n",
       "      <th>295</th>\n",
       "      <th>281</th>\n",
       "      <th>25</th>\n",
       "      <th>67</th>\n",
       "      <th>230</th>\n",
       "      <th>99</th>\n",
       "      <th>279</th>\n",
       "      <th>261</th>\n",
       "      <th>245</th>\n",
       "      <th>127</th>\n",
       "      <th>259</th>\n",
       "      <th>101</th>\n",
       "      <th>211</th>\n",
       "      <th>198</th>\n",
       "      <th>141</th>\n",
       "      <th>84</th>\n",
       "      <th>75</th>\n",
       "      <th>62</th>\n",
       "      <th>163</th>\n",
       "      <th>82</th>\n",
       "      <th>149</th>\n",
       "      <th>219</th>\n",
       "      <th>212</th>\n",
       "      <th>200</th>\n",
       "      <th>233</th>\n",
       "      <th>209</th>\n",
       "      <th>110</th>\n",
       "      <th>78</th>\n",
       "      <th>43</th>\n",
       "      <th>289</th>\n",
       "      <th>76</th>\n",
       "      <th>228</th>\n",
       "      <th>30</th>\n",
       "      <th>20</th>\n",
       "      <th>214</th>\n",
       "      <th>29</th>\n",
       "      <th>139</th>\n",
       "      <th>80</th>\n",
       "      <th>306</th>\n",
       "      <th>248</th>\n",
       "      <th>231</th>\n",
       "      <th>202</th>\n",
       "      <th>274</th>\n",
       "      <th>73</th>\n",
       "      <th>60</th>\n",
       "      <th>250</th>\n",
       "      <th>22</th>\n",
       "      <th>224</th>\n",
       "      <th>108</th>\n",
       "      <th>105</th>\n",
       "      <th>239</th>\n",
       "      <th>189</th>\n",
       "      <th>291</th>\n",
       "      <th>247</th>\n",
       "      <th>222</th>\n",
       "      <th>129</th>\n",
       "      <th>123</th>\n",
       "      <th>38</th>\n",
       "      <th>184</th>\n",
       "      <th>186</th>\n",
       "      <th>166</th>\n",
       "      <th>87</th>\n",
       "      <th>300</th>\n",
       "      <th>282</th>\n",
       "      <th>266</th>\n",
       "      <th>205</th>\n",
       "      <th>164</th>\n",
       "      <th>302</th>\n",
       "      <th>272</th>\n",
       "      <th>237</th>\n",
       "      <th>27</th>\n",
       "      <th>10</th>\n",
       "      <th>293</th>\n",
       "      <th>287</th>\n",
       "      <th>187</th>\n",
       "      <th>53</th>\n",
       "      <th>255</th>\n",
       "      <th>140</th>\n",
       "      <th>89</th>\n",
       "      <th>24</th>\n",
       "      <th>277</th>\n",
       "      <th>278</th>\n",
       "      <th>215</th>\n",
       "      <th>156</th>\n",
       "      <th>152</th>\n",
       "      <th>284</th>\n",
       "      <th>260</th>\n",
       "      <th>208</th>\n",
       "      <th>182</th>\n",
       "      <th>143</th>\n",
       "      <th>104</th>\n",
       "      <th>303</th>\n",
       "      <th>285</th>\n",
       "      <th>183</th>\n",
       "      <th>174</th>\n",
       "      <th>96</th>\n",
       "      <th>70</th>\n",
       "      <th>14</th>\n",
       "      <th>151</th>\n",
       "      <th>107</th>\n",
       "      <th>72</th>\n",
       "      <th>54</th>\n",
       "      <th>1</th>\n",
       "      <th>304</th>\n",
       "      <th>242</th>\n",
       "      <th>216</th>\n",
       "      <th>191</th>\n",
       "      <th>168</th>\n",
       "      <th>135</th>\n",
       "      <th>17</th>\n",
       "      <th>19</th>\n",
       "      <th>232</th>\n",
       "      <th>180</th>\n",
       "      <th>177</th>\n",
       "      <th>113</th>\n",
       "      <th>98</th>\n",
       "      <th>55</th>\n",
       "      <th>32</th>\n",
       "      <th>21</th>\n",
       "      <th>8</th>\n",
       "      <th>4</th>\n",
       "      <th>234</th>\n",
       "      <th>92</th>\n",
       "      <th>37</th>\n",
       "      <th>280</th>\n",
       "      <th>193</th>\n",
       "      <th>172</th>\n",
       "      <th>131</th>\n",
       "      <th>120</th>\n",
       "      <th>100</th>\n",
       "      <th>68</th>\n",
       "      <th>66</th>\n",
       "      <th>36</th>\n",
       "      <th>31</th>\n",
       "      <th>3</th>\n",
       "      <th>268</th>\n",
       "      <th>229</th>\n",
       "      <th>199</th>\n",
       "      <th>117</th>\n",
       "      <th>115</th>\n",
       "      <th>111</th>\n",
       "      <th>103</th>\n",
       "      <th>85</th>\n",
       "      <th>64</th>\n",
       "      <th>51</th>\n",
       "      <th>48</th>\n",
       "      <th>39</th>\n",
       "      <th>33</th>\n",
       "      <th>273</th>\n",
       "      <th>253</th>\n",
       "      <th>236</th>\n",
       "      <th>223</th>\n",
       "      <th>221</th>\n",
       "      <th>210</th>\n",
       "      <th>194</th>\n",
       "      <th>158</th>\n",
       "      <th>154</th>\n",
       "      <th>146</th>\n",
       "      <th>52</th>\n",
       "      <th>46</th>\n",
       "      <th>35</th>\n",
       "      <th>12</th>\n",
       "      <th>296</th>\n",
       "      <th>290</th>\n",
       "      <th>286</th>\n",
       "      <th>283</th>\n",
       "      <th>270</th>\n",
       "      <th>252</th>\n",
       "      <th>195</th>\n",
       "      <th>196</th>\n",
       "      <th>197</th>\n",
       "      <th>159</th>\n",
       "      <th>160</th>\n",
       "      <th>157</th>\n",
       "      <th>153</th>\n",
       "      <th>132</th>\n",
       "      <th>133</th>\n",
       "      <th>125</th>\n",
       "      <th>112</th>\n",
       "      <th>83</th>\n",
       "      <th>59</th>\n",
       "      <th>56</th>\n",
       "      <th>5</th>\n",
       "      <th>276</th>\n",
       "      <th>258</th>\n",
       "      <th>240</th>\n",
       "      <th>238</th>\n",
       "      <th>207</th>\n",
       "      <th>188</th>\n",
       "      <th>170</th>\n",
       "      <th>138</th>\n",
       "      <th>130</th>\n",
       "      <th>109</th>\n",
       "      <th>106</th>\n",
       "      <th>97</th>\n",
       "      <th>61</th>\n",
       "      <th>57</th>\n",
       "      <th>40</th>\n",
       "      <th>41</th>\n",
       "      <th>18</th>\n",
       "      <th>7</th>\n",
       "      <th>301</th>\n",
       "      <th>298</th>\n",
       "      <th>299</th>\n",
       "      <th>288</th>\n",
       "      <th>275</th>\n",
       "      <th>271</th>\n",
       "      <th>269</th>\n",
       "      <th>257</th>\n",
       "      <th>235</th>\n",
       "      <th>217</th>\n",
       "      <th>213</th>\n",
       "      <th>185</th>\n",
       "      <th>171</th>\n",
       "      <th>165</th>\n",
       "      <th>162</th>\n",
       "      <th>155</th>\n",
       "      <th>137</th>\n",
       "      <th>114</th>\n",
       "      <th>102</th>\n",
       "      <th>91</th>\n",
       "      <th>86</th>\n",
       "      <th>77</th>\n",
       "      <th>74</th>\n",
       "      <th>71</th>\n",
       "      <th>65</th>\n",
       "      <th>63</th>\n",
       "      <th>58</th>\n",
       "      <th>47</th>\n",
       "      <th>45</th>\n",
       "      <th>34</th>\n",
       "      <th>15</th>\n",
       "      <th>16</th>\n",
       "      <th>13</th>\n",
       "      <th>11</th>\n",
       "      <th>9</th>\n",
       "      <th>6</th>\n",
       "    </tr>\n",
       "  </thead>\n",
       "  <tbody>\n",
       "    <tr>\n",
       "      <th>opening_name</th>\n",
       "      <td>Sicilian Defense</td>\n",
       "      <td>Sicilian Defense</td>\n",
       "      <td>French Defense</td>\n",
       "      <td>Queen's Pawn</td>\n",
       "      <td>French Defense</td>\n",
       "      <td>Queen's Pawn</td>\n",
       "      <td>Queen's Gambit</td>\n",
       "      <td>Italian Game</td>\n",
       "      <td>King's Pawn</td>\n",
       "      <td>Ruy Lopez</td>\n",
       "      <td>Italian Game</td>\n",
       "      <td>King's Pawn</td>\n",
       "      <td>Philidor Defense</td>\n",
       "      <td>English Opening</td>\n",
       "      <td>Queen's Gambit</td>\n",
       "      <td>Scandinavian Defense</td>\n",
       "      <td>Ruy Lopez</td>\n",
       "      <td>Scandinavian Defense</td>\n",
       "      <td>English Opening</td>\n",
       "      <td>Caro-Kann Defense</td>\n",
       "      <td>Caro-Kann Defense</td>\n",
       "      <td>Philidor Defense</td>\n",
       "      <td>Scotch Game</td>\n",
       "      <td>Van't Kruijs Opening</td>\n",
       "      <td>Scotch Game</td>\n",
       "      <td>Four Knights Game</td>\n",
       "      <td>Bishop's Opening</td>\n",
       "      <td>Zukertort Opening</td>\n",
       "      <td>Indian Game</td>\n",
       "      <td>Four Knights Game</td>\n",
       "      <td>Pirc Defense</td>\n",
       "      <td>Nimzowitsch Defense</td>\n",
       "      <td>Russian Game</td>\n",
       "      <td>King's Gambit</td>\n",
       "      <td>Sicilian Defense</td>\n",
       "      <td>Zukertort Opening</td>\n",
       "      <td>Van't Kruijs Opening</td>\n",
       "      <td>Indian Game</td>\n",
       "      <td>Bishop's Opening</td>\n",
       "      <td>Modern Defense</td>\n",
       "      <td>Pirc Defense</td>\n",
       "      <td>Slav Defense</td>\n",
       "      <td>Slav Defense</td>\n",
       "      <td>Horwitz Defense</td>\n",
       "      <td>King's Knight Opening</td>\n",
       "      <td>Alekhine Defense</td>\n",
       "      <td>Modern Defense</td>\n",
       "      <td>Russian Game</td>\n",
       "      <td>King's Indian Defense</td>\n",
       "      <td>Hungarian Opening</td>\n",
       "      <td>Horwitz Defense</td>\n",
       "      <td>Center Game</td>\n",
       "      <td>King's Indian Defense</td>\n",
       "      <td>King's Gambit</td>\n",
       "      <td>Owen Defense</td>\n",
       "      <td>Bird Opening</td>\n",
       "      <td>Nimzo-Larsen Attack</td>\n",
       "      <td>Owen Defense</td>\n",
       "      <td>Hungarian Opening</td>\n",
       "      <td>Center Game</td>\n",
       "      <td>Alekhine Defense</td>\n",
       "      <td>Nimzo-Larsen Attack</td>\n",
       "      <td>King's Knight Opening</td>\n",
       "      <td>Nimzo-Indian Defense</td>\n",
       "      <td>Vienna Game</td>\n",
       "      <td>Nimzo-Indian Defense</td>\n",
       "      <td>French Defense</td>\n",
       "      <td>Nimzowitsch Defense</td>\n",
       "      <td>Queen's Pawn</td>\n",
       "      <td>Mieses Opening</td>\n",
       "      <td>Dutch Defense</td>\n",
       "      <td>Vienna Game</td>\n",
       "      <td>Three Knights Opening</td>\n",
       "      <td>Bird Opening</td>\n",
       "      <td>Dutch Defense</td>\n",
       "      <td>Rat Defense</td>\n",
       "      <td>Giuoco Piano</td>\n",
       "      <td>Three Knights Opening</td>\n",
       "      <td>Semi-Slav Defense</td>\n",
       "      <td>Ruy Lopez</td>\n",
       "      <td>Italian Game</td>\n",
       "      <td>Semi-Slav Defense</td>\n",
       "      <td>Giuoco Piano</td>\n",
       "      <td>Polish Opening</td>\n",
       "      <td>Petrov's Defense</td>\n",
       "      <td>King's Indian Attack</td>\n",
       "      <td>Englund Gambit</td>\n",
       "      <td>Elephant Gambit</td>\n",
       "      <td>Danish Gambit</td>\n",
       "      <td>Mieses Opening</td>\n",
       "      <td>Englund Gambit</td>\n",
       "      <td>King's Pawn</td>\n",
       "      <td>Queen's Gambit</td>\n",
       "      <td>Ponziani Opening</td>\n",
       "      <td>Petrov's Defense</td>\n",
       "      <td>Reti Opening</td>\n",
       "      <td>Polish Opening</td>\n",
       "      <td>Gruenfeld Defense</td>\n",
       "      <td>English Defense</td>\n",
       "      <td>Caro-Kann Defense</td>\n",
       "      <td>Van Geet Opening</td>\n",
       "      <td>English Defense</td>\n",
       "      <td>Rat Defense</td>\n",
       "      <td>Blackmar-Diemer Gambit</td>\n",
       "      <td>Benoni Defense</td>\n",
       "      <td>Ponziani Opening</td>\n",
       "      <td>Blackmar-Diemer Gambit</td>\n",
       "      <td>King's Indian Attack</td>\n",
       "      <td>English Opening</td>\n",
       "      <td>Zukertort Opening</td>\n",
       "      <td>Saragossa Opening</td>\n",
       "      <td>Reti Opening</td>\n",
       "      <td>Philidor Defense</td>\n",
       "      <td>St. George Defense</td>\n",
       "      <td>Elephant Gambit</td>\n",
       "      <td>Danish Gambit</td>\n",
       "      <td>Scandinavian Defense</td>\n",
       "      <td>Benoni Defense</td>\n",
       "      <td>Queen's Indian Defense</td>\n",
       "      <td>Gruenfeld Defense</td>\n",
       "      <td>Grob Opening</td>\n",
       "      <td>Robatsch (Modern) Defense</td>\n",
       "      <td>Old Indian</td>\n",
       "      <td>Van Geet Opening</td>\n",
       "      <td>Saragossa Opening</td>\n",
       "      <td>Queen's Indian Defense</td>\n",
       "      <td>Kadas Opening</td>\n",
       "      <td>Indian Game</td>\n",
       "      <td>Budapest Defense</td>\n",
       "      <td>Old Benoni Defense</td>\n",
       "      <td>Old Benoni Defense</td>\n",
       "      <td>Mikenas Defense</td>\n",
       "      <td>Englund Gambit Complex</td>\n",
       "      <td>Ware Opening</td>\n",
       "      <td>Torre Attack</td>\n",
       "      <td>Slav Defense</td>\n",
       "      <td>Pirc Defense</td>\n",
       "      <td>Mikenas Defense</td>\n",
       "      <td>Ware Opening</td>\n",
       "      <td>St. George Defense</td>\n",
       "      <td>Robatsch (Modern) Defense</td>\n",
       "      <td>Bishop's Opening</td>\n",
       "      <td>Anderssen Opening</td>\n",
       "      <td>Van't Kruijs Opening</td>\n",
       "      <td>Trompowsky Attack</td>\n",
       "      <td>Old Indian</td>\n",
       "      <td>Colle System</td>\n",
       "      <td>Scotch Game</td>\n",
       "      <td>King's Indian Attack</td>\n",
       "      <td>Four Knights Game</td>\n",
       "      <td>Bird Opening</td>\n",
       "      <td>Tarrasch Defense</td>\n",
       "      <td>Tarrasch Defense</td>\n",
       "      <td>Portuguese Opening</td>\n",
       "      <td>London System</td>\n",
       "      <td>Latvian Gambit</td>\n",
       "      <td>Torre Attack</td>\n",
       "      <td>Semi-Slav Defense</td>\n",
       "      <td>Polish Defense</td>\n",
       "      <td>Nimzowitsch-Larsen Attack</td>\n",
       "      <td>King's Indian Defense</td>\n",
       "      <td>Goldsmith Defense</td>\n",
       "      <td>Yusupov-Rubinstein System</td>\n",
       "      <td>Trompowsky Attack</td>\n",
       "      <td>Nimzowitsch-Larsen Attack</td>\n",
       "      <td>Nimzo-Indian Defense</td>\n",
       "      <td>Gedult's Opening</td>\n",
       "      <td>East Indian Defense</td>\n",
       "      <td>Barnes Defense</td>\n",
       "      <td>Latvian Gambit</td>\n",
       "      <td>Grob Opening</td>\n",
       "      <td>East Indian Defense</td>\n",
       "      <td>Colle System</td>\n",
       "      <td>Alekhine Defense</td>\n",
       "      <td>Yusupov-Rubinstein System</td>\n",
       "      <td>Russian Game</td>\n",
       "      <td>Portuguese Opening</td>\n",
       "      <td>Owen Defense</td>\n",
       "      <td>Modern Defense</td>\n",
       "      <td>King's Gambit</td>\n",
       "      <td>Benko Gambit</td>\n",
       "      <td>Benko Gambit</td>\n",
       "      <td>Reti Opening</td>\n",
       "      <td>Nimzowitsch Defense</td>\n",
       "      <td>Nimzo-Larsen Attack</td>\n",
       "      <td>Gunderam Defense</td>\n",
       "      <td>Gedult's Opening</td>\n",
       "      <td>Crab Opening</td>\n",
       "      <td>Blumenfeld Countergambit</td>\n",
       "      <td>Benoni Defense</td>\n",
       "      <td>Anderssen Opening</td>\n",
       "      <td>Amar Opening</td>\n",
       "      <td>Richter-Veresov Attack</td>\n",
       "      <td>Franco-Benoni Defense</td>\n",
       "      <td>Borg Defense</td>\n",
       "      <td>Three Knights Opening</td>\n",
       "      <td>Paleface Attack</td>\n",
       "      <td>Neo-Gruenfeld Defense</td>\n",
       "      <td>Kadas Opening</td>\n",
       "      <td>Hungarian Opening</td>\n",
       "      <td>Giuoco Piano</td>\n",
       "      <td>Dutch Defense</td>\n",
       "      <td>Duras Gambit</td>\n",
       "      <td>Borg Defense</td>\n",
       "      <td>Blumenfeld Countergambit</td>\n",
       "      <td>Amar Opening</td>\n",
       "      <td>Slav Indian</td>\n",
       "      <td>Rat Defense</td>\n",
       "      <td>Petrov's Defense</td>\n",
       "      <td>Horwitz Defense</td>\n",
       "      <td>Hippopotamus Defense</td>\n",
       "      <td>Guatemala Defense</td>\n",
       "      <td>Goldsmith Defense</td>\n",
       "      <td>Englund Gambit Complex</td>\n",
       "      <td>Duras Gambit</td>\n",
       "      <td>Clemenz Opening</td>\n",
       "      <td>Catalan Opening</td>\n",
       "      <td>Budapest Defense</td>\n",
       "      <td>Bogo-Indian Defense</td>\n",
       "      <td>St. George Defense</td>\n",
       "      <td>Scotch Gambit</td>\n",
       "      <td>Richter-Veresov Attack</td>\n",
       "      <td>Queen's Indian Defense</td>\n",
       "      <td>Queen's Indian Accelerated</td>\n",
       "      <td>Polish Opening</td>\n",
       "      <td>Paleface Attack</td>\n",
       "      <td>London System</td>\n",
       "      <td>Lion Defense</td>\n",
       "      <td>King's Knight Opening</td>\n",
       "      <td>Clemenz Opening</td>\n",
       "      <td>Carr Defense</td>\n",
       "      <td>Bogo-Indian Defense</td>\n",
       "      <td>Barnes Defense</td>\n",
       "      <td>Vienna Game</td>\n",
       "      <td>Van Geet Opening</td>\n",
       "      <td>Trompowsky Attack</td>\n",
       "      <td>Torre Attack</td>\n",
       "      <td>Sodium Attack</td>\n",
       "      <td>Scotch Gambit</td>\n",
       "      <td>Petrov</td>\n",
       "      <td>Petrov</td>\n",
       "      <td>Petrov</td>\n",
       "      <td>Mexican Defense</td>\n",
       "      <td>Mexican Defense</td>\n",
       "      <td>London System</td>\n",
       "      <td>Lemming Defense</td>\n",
       "      <td>Kangaroo Defense</td>\n",
       "      <td>Kangaroo Defense</td>\n",
       "      <td>Irish Gambit</td>\n",
       "      <td>Gunderam Defense</td>\n",
       "      <td>Englund Gambit</td>\n",
       "      <td>Czech Defense</td>\n",
       "      <td>Creepy Crawly Formation</td>\n",
       "      <td>Amazon Attack</td>\n",
       "      <td>System</td>\n",
       "      <td>Semi-Bononi</td>\n",
       "      <td>Rubinstein Opening</td>\n",
       "      <td>Robatsch (Modern) Defense</td>\n",
       "      <td>Polish Defense</td>\n",
       "      <td>Old Indian</td>\n",
       "      <td>Neo-Gruenfeld Defense</td>\n",
       "      <td>King's Indian</td>\n",
       "      <td>Kadas Opening</td>\n",
       "      <td>Gruenfeld Defense</td>\n",
       "      <td>Grob Opening</td>\n",
       "      <td>Gedult's Opening</td>\n",
       "      <td>Danish Gambit</td>\n",
       "      <td>Creepy Crawly Formation</td>\n",
       "      <td>Canard Opening</td>\n",
       "      <td>Canard Opening</td>\n",
       "      <td>Benko Gambit</td>\n",
       "      <td>Amazon Attack</td>\n",
       "      <td>Ware Opening</td>\n",
       "      <td>Wade Defense</td>\n",
       "      <td>Wade Defense</td>\n",
       "      <td>Valencia Opening</td>\n",
       "      <td>System</td>\n",
       "      <td>Sodium Attack</td>\n",
       "      <td>Slav Indian</td>\n",
       "      <td>Semi-Bononi</td>\n",
       "      <td>Richter-Veresov Attack</td>\n",
       "      <td>Pterodactyl Defense</td>\n",
       "      <td>Ponziani Opening</td>\n",
       "      <td>Old Benoni Defense</td>\n",
       "      <td>Neo-Gruenfeld Defense</td>\n",
       "      <td>Mikenas Defense</td>\n",
       "      <td>Mieses Opening</td>\n",
       "      <td>Lion Defense</td>\n",
       "      <td>King's Indian</td>\n",
       "      <td>Hippopotamus Defense</td>\n",
       "      <td>Global Opening</td>\n",
       "      <td>Franco-Benoni Defense</td>\n",
       "      <td>Englund Gambit Complex</td>\n",
       "      <td>English Defense</td>\n",
       "      <td>Elephant Gambit</td>\n",
       "      <td>East Indian Defense</td>\n",
       "      <td>Duras Gambit</td>\n",
       "      <td>Doery Defense</td>\n",
       "      <td>Czech Defense</td>\n",
       "      <td>Catalan Opening</td>\n",
       "      <td>Carr Defense</td>\n",
       "      <td>Bogo-Indian Defense</td>\n",
       "      <td>Barnes Opening</td>\n",
       "      <td>Barnes Opening</td>\n",
       "      <td>Barnes Defense</td>\n",
       "      <td>Australian Defense</td>\n",
       "      <td>Anderssen Opening</td>\n",
       "      <td>Amazon Attack</td>\n",
       "    </tr>\n",
       "    <tr>\n",
       "      <th>winner</th>\n",
       "      <td>black</td>\n",
       "      <td>white</td>\n",
       "      <td>white</td>\n",
       "      <td>white</td>\n",
       "      <td>black</td>\n",
       "      <td>black</td>\n",
       "      <td>white</td>\n",
       "      <td>white</td>\n",
       "      <td>white</td>\n",
       "      <td>white</td>\n",
       "      <td>black</td>\n",
       "      <td>black</td>\n",
       "      <td>white</td>\n",
       "      <td>white</td>\n",
       "      <td>black</td>\n",
       "      <td>white</td>\n",
       "      <td>black</td>\n",
       "      <td>black</td>\n",
       "      <td>black</td>\n",
       "      <td>white</td>\n",
       "      <td>black</td>\n",
       "      <td>black</td>\n",
       "      <td>white</td>\n",
       "      <td>black</td>\n",
       "      <td>black</td>\n",
       "      <td>white</td>\n",
       "      <td>white</td>\n",
       "      <td>white</td>\n",
       "      <td>black</td>\n",
       "      <td>black</td>\n",
       "      <td>white</td>\n",
       "      <td>white</td>\n",
       "      <td>white</td>\n",
       "      <td>white</td>\n",
       "      <td>draw</td>\n",
       "      <td>black</td>\n",
       "      <td>white</td>\n",
       "      <td>white</td>\n",
       "      <td>black</td>\n",
       "      <td>black</td>\n",
       "      <td>black</td>\n",
       "      <td>black</td>\n",
       "      <td>white</td>\n",
       "      <td>white</td>\n",
       "      <td>white</td>\n",
       "      <td>white</td>\n",
       "      <td>white</td>\n",
       "      <td>black</td>\n",
       "      <td>white</td>\n",
       "      <td>black</td>\n",
       "      <td>black</td>\n",
       "      <td>black</td>\n",
       "      <td>black</td>\n",
       "      <td>black</td>\n",
       "      <td>black</td>\n",
       "      <td>black</td>\n",
       "      <td>black</td>\n",
       "      <td>white</td>\n",
       "      <td>white</td>\n",
       "      <td>white</td>\n",
       "      <td>black</td>\n",
       "      <td>white</td>\n",
       "      <td>black</td>\n",
       "      <td>white</td>\n",
       "      <td>white</td>\n",
       "      <td>black</td>\n",
       "      <td>draw</td>\n",
       "      <td>black</td>\n",
       "      <td>draw</td>\n",
       "      <td>black</td>\n",
       "      <td>white</td>\n",
       "      <td>black</td>\n",
       "      <td>white</td>\n",
       "      <td>white</td>\n",
       "      <td>black</td>\n",
       "      <td>white</td>\n",
       "      <td>black</td>\n",
       "      <td>black</td>\n",
       "      <td>white</td>\n",
       "      <td>draw</td>\n",
       "      <td>draw</td>\n",
       "      <td>black</td>\n",
       "      <td>white</td>\n",
       "      <td>white</td>\n",
       "      <td>black</td>\n",
       "      <td>white</td>\n",
       "      <td>white</td>\n",
       "      <td>white</td>\n",
       "      <td>white</td>\n",
       "      <td>white</td>\n",
       "      <td>black</td>\n",
       "      <td>draw</td>\n",
       "      <td>draw</td>\n",
       "      <td>black</td>\n",
       "      <td>white</td>\n",
       "      <td>white</td>\n",
       "      <td>black</td>\n",
       "      <td>white</td>\n",
       "      <td>white</td>\n",
       "      <td>draw</td>\n",
       "      <td>black</td>\n",
       "      <td>black</td>\n",
       "      <td>black</td>\n",
       "      <td>white</td>\n",
       "      <td>black</td>\n",
       "      <td>white</td>\n",
       "      <td>black</td>\n",
       "      <td>black</td>\n",
       "      <td>draw</td>\n",
       "      <td>draw</td>\n",
       "      <td>white</td>\n",
       "      <td>black</td>\n",
       "      <td>draw</td>\n",
       "      <td>white</td>\n",
       "      <td>black</td>\n",
       "      <td>black</td>\n",
       "      <td>draw</td>\n",
       "      <td>white</td>\n",
       "      <td>white</td>\n",
       "      <td>black</td>\n",
       "      <td>black</td>\n",
       "      <td>white</td>\n",
       "      <td>white</td>\n",
       "      <td>white</td>\n",
       "      <td>black</td>\n",
       "      <td>black</td>\n",
       "      <td>black</td>\n",
       "      <td>draw</td>\n",
       "      <td>black</td>\n",
       "      <td>black</td>\n",
       "      <td>white</td>\n",
       "      <td>white</td>\n",
       "      <td>white</td>\n",
       "      <td>black</td>\n",
       "      <td>black</td>\n",
       "      <td>draw</td>\n",
       "      <td>draw</td>\n",
       "      <td>black</td>\n",
       "      <td>white</td>\n",
       "      <td>black</td>\n",
       "      <td>black</td>\n",
       "      <td>draw</td>\n",
       "      <td>white</td>\n",
       "      <td>draw</td>\n",
       "      <td>white</td>\n",
       "      <td>black</td>\n",
       "      <td>black</td>\n",
       "      <td>draw</td>\n",
       "      <td>draw</td>\n",
       "      <td>draw</td>\n",
       "      <td>draw</td>\n",
       "      <td>black</td>\n",
       "      <td>white</td>\n",
       "      <td>black</td>\n",
       "      <td>black</td>\n",
       "      <td>white</td>\n",
       "      <td>white</td>\n",
       "      <td>draw</td>\n",
       "      <td>white</td>\n",
       "      <td>black</td>\n",
       "      <td>draw</td>\n",
       "      <td>white</td>\n",
       "      <td>black</td>\n",
       "      <td>black</td>\n",
       "      <td>white</td>\n",
       "      <td>draw</td>\n",
       "      <td>black</td>\n",
       "      <td>black</td>\n",
       "      <td>white</td>\n",
       "      <td>black</td>\n",
       "      <td>white</td>\n",
       "      <td>white</td>\n",
       "      <td>white</td>\n",
       "      <td>draw</td>\n",
       "      <td>white</td>\n",
       "      <td>draw</td>\n",
       "      <td>white</td>\n",
       "      <td>draw</td>\n",
       "      <td>draw</td>\n",
       "      <td>draw</td>\n",
       "      <td>black</td>\n",
       "      <td>white</td>\n",
       "      <td>draw</td>\n",
       "      <td>draw</td>\n",
       "      <td>draw</td>\n",
       "      <td>white</td>\n",
       "      <td>white</td>\n",
       "      <td>black</td>\n",
       "      <td>white</td>\n",
       "      <td>draw</td>\n",
       "      <td>black</td>\n",
       "      <td>white</td>\n",
       "      <td>black</td>\n",
       "      <td>white</td>\n",
       "      <td>white</td>\n",
       "      <td>draw</td>\n",
       "      <td>black</td>\n",
       "      <td>white</td>\n",
       "      <td>white</td>\n",
       "      <td>draw</td>\n",
       "      <td>draw</td>\n",
       "      <td>draw</td>\n",
       "      <td>white</td>\n",
       "      <td>black</td>\n",
       "      <td>black</td>\n",
       "      <td>black</td>\n",
       "      <td>black</td>\n",
       "      <td>draw</td>\n",
       "      <td>draw</td>\n",
       "      <td>draw</td>\n",
       "      <td>white</td>\n",
       "      <td>white</td>\n",
       "      <td>black</td>\n",
       "      <td>black</td>\n",
       "      <td>black</td>\n",
       "      <td>black</td>\n",
       "      <td>white</td>\n",
       "      <td>white</td>\n",
       "      <td>black</td>\n",
       "      <td>draw</td>\n",
       "      <td>white</td>\n",
       "      <td>white</td>\n",
       "      <td>draw</td>\n",
       "      <td>white</td>\n",
       "      <td>draw</td>\n",
       "      <td>white</td>\n",
       "      <td>white</td>\n",
       "      <td>black</td>\n",
       "      <td>draw</td>\n",
       "      <td>white</td>\n",
       "      <td>white</td>\n",
       "      <td>white</td>\n",
       "      <td>black</td>\n",
       "      <td>draw</td>\n",
       "      <td>draw</td>\n",
       "      <td>draw</td>\n",
       "      <td>draw</td>\n",
       "      <td>black</td>\n",
       "      <td>black</td>\n",
       "      <td>black</td>\n",
       "      <td>draw</td>\n",
       "      <td>white</td>\n",
       "      <td>black</td>\n",
       "      <td>white</td>\n",
       "      <td>draw</td>\n",
       "      <td>white</td>\n",
       "      <td>black</td>\n",
       "      <td>white</td>\n",
       "      <td>black</td>\n",
       "      <td>black</td>\n",
       "      <td>draw</td>\n",
       "      <td>white</td>\n",
       "      <td>black</td>\n",
       "      <td>black</td>\n",
       "      <td>white</td>\n",
       "      <td>white</td>\n",
       "      <td>white</td>\n",
       "      <td>draw</td>\n",
       "      <td>black</td>\n",
       "      <td>draw</td>\n",
       "      <td>black</td>\n",
       "      <td>white</td>\n",
       "      <td>draw</td>\n",
       "      <td>draw</td>\n",
       "      <td>draw</td>\n",
       "      <td>draw</td>\n",
       "      <td>draw</td>\n",
       "      <td>white</td>\n",
       "      <td>black</td>\n",
       "      <td>white</td>\n",
       "      <td>draw</td>\n",
       "      <td>white</td>\n",
       "      <td>draw</td>\n",
       "      <td>black</td>\n",
       "      <td>white</td>\n",
       "      <td>black</td>\n",
       "      <td>black</td>\n",
       "      <td>white</td>\n",
       "      <td>white</td>\n",
       "      <td>black</td>\n",
       "      <td>draw</td>\n",
       "      <td>white</td>\n",
       "      <td>draw</td>\n",
       "      <td>draw</td>\n",
       "      <td>draw</td>\n",
       "      <td>draw</td>\n",
       "      <td>draw</td>\n",
       "      <td>white</td>\n",
       "      <td>black</td>\n",
       "      <td>black</td>\n",
       "      <td>white</td>\n",
       "      <td>black</td>\n",
       "      <td>draw</td>\n",
       "      <td>draw</td>\n",
       "      <td>draw</td>\n",
       "      <td>draw</td>\n",
       "      <td>draw</td>\n",
       "      <td>black</td>\n",
       "      <td>black</td>\n",
       "      <td>black</td>\n",
       "      <td>draw</td>\n",
       "      <td>draw</td>\n",
       "      <td>draw</td>\n",
       "      <td>white</td>\n",
       "      <td>draw</td>\n",
       "      <td>white</td>\n",
       "      <td>draw</td>\n",
       "      <td>draw</td>\n",
       "    </tr>\n",
       "    <tr>\n",
       "      <th>size</th>\n",
       "      <td>1299</td>\n",
       "      <td>1203</td>\n",
       "      <td>689</td>\n",
       "      <td>664</td>\n",
       "      <td>653</td>\n",
       "      <td>646</td>\n",
       "      <td>512</td>\n",
       "      <td>483</td>\n",
       "      <td>462</td>\n",
       "      <td>451</td>\n",
       "      <td>451</td>\n",
       "      <td>450</td>\n",
       "      <td>396</td>\n",
       "      <td>395</td>\n",
       "      <td>365</td>\n",
       "      <td>358</td>\n",
       "      <td>358</td>\n",
       "      <td>332</td>\n",
       "      <td>296</td>\n",
       "      <td>294</td>\n",
       "      <td>269</td>\n",
       "      <td>267</td>\n",
       "      <td>251</td>\n",
       "      <td>226</td>\n",
       "      <td>199</td>\n",
       "      <td>193</td>\n",
       "      <td>186</td>\n",
       "      <td>179</td>\n",
       "      <td>176</td>\n",
       "      <td>162</td>\n",
       "      <td>156</td>\n",
       "      <td>147</td>\n",
       "      <td>146</td>\n",
       "      <td>138</td>\n",
       "      <td>130</td>\n",
       "      <td>129</td>\n",
       "      <td>126</td>\n",
       "      <td>123</td>\n",
       "      <td>120</td>\n",
       "      <td>115</td>\n",
       "      <td>114</td>\n",
       "      <td>111</td>\n",
       "      <td>111</td>\n",
       "      <td>110</td>\n",
       "      <td>103</td>\n",
       "      <td>103</td>\n",
       "      <td>101</td>\n",
       "      <td>97</td>\n",
       "      <td>95</td>\n",
       "      <td>94</td>\n",
       "      <td>94</td>\n",
       "      <td>93</td>\n",
       "      <td>90</td>\n",
       "      <td>90</td>\n",
       "      <td>83</td>\n",
       "      <td>82</td>\n",
       "      <td>80</td>\n",
       "      <td>79</td>\n",
       "      <td>79</td>\n",
       "      <td>79</td>\n",
       "      <td>79</td>\n",
       "      <td>76</td>\n",
       "      <td>76</td>\n",
       "      <td>74</td>\n",
       "      <td>73</td>\n",
       "      <td>72</td>\n",
       "      <td>70</td>\n",
       "      <td>69</td>\n",
       "      <td>66</td>\n",
       "      <td>62</td>\n",
       "      <td>62</td>\n",
       "      <td>61</td>\n",
       "      <td>61</td>\n",
       "      <td>60</td>\n",
       "      <td>57</td>\n",
       "      <td>56</td>\n",
       "      <td>56</td>\n",
       "      <td>50</td>\n",
       "      <td>50</td>\n",
       "      <td>49</td>\n",
       "      <td>47</td>\n",
       "      <td>46</td>\n",
       "      <td>46</td>\n",
       "      <td>45</td>\n",
       "      <td>45</td>\n",
       "      <td>44</td>\n",
       "      <td>44</td>\n",
       "      <td>44</td>\n",
       "      <td>41</td>\n",
       "      <td>40</td>\n",
       "      <td>40</td>\n",
       "      <td>36</td>\n",
       "      <td>35</td>\n",
       "      <td>35</td>\n",
       "      <td>35</td>\n",
       "      <td>34</td>\n",
       "      <td>34</td>\n",
       "      <td>34</td>\n",
       "      <td>34</td>\n",
       "      <td>34</td>\n",
       "      <td>33</td>\n",
       "      <td>33</td>\n",
       "      <td>31</td>\n",
       "      <td>31</td>\n",
       "      <td>31</td>\n",
       "      <td>30</td>\n",
       "      <td>30</td>\n",
       "      <td>29</td>\n",
       "      <td>29</td>\n",
       "      <td>28</td>\n",
       "      <td>28</td>\n",
       "      <td>28</td>\n",
       "      <td>28</td>\n",
       "      <td>27</td>\n",
       "      <td>27</td>\n",
       "      <td>27</td>\n",
       "      <td>26</td>\n",
       "      <td>26</td>\n",
       "      <td>25</td>\n",
       "      <td>25</td>\n",
       "      <td>25</td>\n",
       "      <td>23</td>\n",
       "      <td>23</td>\n",
       "      <td>22</td>\n",
       "      <td>22</td>\n",
       "      <td>21</td>\n",
       "      <td>21</td>\n",
       "      <td>20</td>\n",
       "      <td>20</td>\n",
       "      <td>19</td>\n",
       "      <td>19</td>\n",
       "      <td>19</td>\n",
       "      <td>19</td>\n",
       "      <td>18</td>\n",
       "      <td>18</td>\n",
       "      <td>18</td>\n",
       "      <td>18</td>\n",
       "      <td>18</td>\n",
       "      <td>17</td>\n",
       "      <td>17</td>\n",
       "      <td>17</td>\n",
       "      <td>17</td>\n",
       "      <td>17</td>\n",
       "      <td>16</td>\n",
       "      <td>16</td>\n",
       "      <td>16</td>\n",
       "      <td>16</td>\n",
       "      <td>15</td>\n",
       "      <td>15</td>\n",
       "      <td>15</td>\n",
       "      <td>15</td>\n",
       "      <td>13</td>\n",
       "      <td>13</td>\n",
       "      <td>13</td>\n",
       "      <td>13</td>\n",
       "      <td>13</td>\n",
       "      <td>12</td>\n",
       "      <td>12</td>\n",
       "      <td>12</td>\n",
       "      <td>12</td>\n",
       "      <td>12</td>\n",
       "      <td>12</td>\n",
       "      <td>11</td>\n",
       "      <td>11</td>\n",
       "      <td>11</td>\n",
       "      <td>11</td>\n",
       "      <td>11</td>\n",
       "      <td>11</td>\n",
       "      <td>11</td>\n",
       "      <td>10</td>\n",
       "      <td>10</td>\n",
       "      <td>10</td>\n",
       "      <td>10</td>\n",
       "      <td>10</td>\n",
       "      <td>9</td>\n",
       "      <td>9</td>\n",
       "      <td>9</td>\n",
       "      <td>9</td>\n",
       "      <td>9</td>\n",
       "      <td>9</td>\n",
       "      <td>9</td>\n",
       "      <td>9</td>\n",
       "      <td>8</td>\n",
       "      <td>8</td>\n",
       "      <td>8</td>\n",
       "      <td>8</td>\n",
       "      <td>8</td>\n",
       "      <td>8</td>\n",
       "      <td>8</td>\n",
       "      <td>8</td>\n",
       "      <td>8</td>\n",
       "      <td>8</td>\n",
       "      <td>7</td>\n",
       "      <td>7</td>\n",
       "      <td>7</td>\n",
       "      <td>6</td>\n",
       "      <td>6</td>\n",
       "      <td>6</td>\n",
       "      <td>6</td>\n",
       "      <td>6</td>\n",
       "      <td>6</td>\n",
       "      <td>6</td>\n",
       "      <td>6</td>\n",
       "      <td>6</td>\n",
       "      <td>6</td>\n",
       "      <td>6</td>\n",
       "      <td>5</td>\n",
       "      <td>5</td>\n",
       "      <td>5</td>\n",
       "      <td>5</td>\n",
       "      <td>5</td>\n",
       "      <td>5</td>\n",
       "      <td>5</td>\n",
       "      <td>5</td>\n",
       "      <td>5</td>\n",
       "      <td>5</td>\n",
       "      <td>5</td>\n",
       "      <td>5</td>\n",
       "      <td>5</td>\n",
       "      <td>4</td>\n",
       "      <td>4</td>\n",
       "      <td>4</td>\n",
       "      <td>4</td>\n",
       "      <td>4</td>\n",
       "      <td>4</td>\n",
       "      <td>4</td>\n",
       "      <td>4</td>\n",
       "      <td>4</td>\n",
       "      <td>4</td>\n",
       "      <td>4</td>\n",
       "      <td>4</td>\n",
       "      <td>4</td>\n",
       "      <td>4</td>\n",
       "      <td>3</td>\n",
       "      <td>3</td>\n",
       "      <td>3</td>\n",
       "      <td>3</td>\n",
       "      <td>3</td>\n",
       "      <td>3</td>\n",
       "      <td>3</td>\n",
       "      <td>3</td>\n",
       "      <td>3</td>\n",
       "      <td>3</td>\n",
       "      <td>3</td>\n",
       "      <td>3</td>\n",
       "      <td>3</td>\n",
       "      <td>3</td>\n",
       "      <td>3</td>\n",
       "      <td>3</td>\n",
       "      <td>3</td>\n",
       "      <td>3</td>\n",
       "      <td>3</td>\n",
       "      <td>3</td>\n",
       "      <td>3</td>\n",
       "      <td>2</td>\n",
       "      <td>2</td>\n",
       "      <td>2</td>\n",
       "      <td>2</td>\n",
       "      <td>2</td>\n",
       "      <td>2</td>\n",
       "      <td>2</td>\n",
       "      <td>2</td>\n",
       "      <td>2</td>\n",
       "      <td>2</td>\n",
       "      <td>2</td>\n",
       "      <td>2</td>\n",
       "      <td>2</td>\n",
       "      <td>2</td>\n",
       "      <td>2</td>\n",
       "      <td>2</td>\n",
       "      <td>2</td>\n",
       "      <td>2</td>\n",
       "      <td>1</td>\n",
       "      <td>1</td>\n",
       "      <td>1</td>\n",
       "      <td>1</td>\n",
       "      <td>1</td>\n",
       "      <td>1</td>\n",
       "      <td>1</td>\n",
       "      <td>1</td>\n",
       "      <td>1</td>\n",
       "      <td>1</td>\n",
       "      <td>1</td>\n",
       "      <td>1</td>\n",
       "      <td>1</td>\n",
       "      <td>1</td>\n",
       "      <td>1</td>\n",
       "      <td>1</td>\n",
       "      <td>1</td>\n",
       "      <td>1</td>\n",
       "      <td>1</td>\n",
       "      <td>1</td>\n",
       "      <td>1</td>\n",
       "      <td>1</td>\n",
       "      <td>1</td>\n",
       "      <td>1</td>\n",
       "      <td>1</td>\n",
       "      <td>1</td>\n",
       "      <td>1</td>\n",
       "      <td>1</td>\n",
       "      <td>1</td>\n",
       "      <td>1</td>\n",
       "      <td>1</td>\n",
       "      <td>1</td>\n",
       "      <td>1</td>\n",
       "      <td>1</td>\n",
       "      <td>1</td>\n",
       "      <td>1</td>\n",
       "    </tr>\n",
       "  </tbody>\n",
       "</table>\n",
       "</div>"
      ],
      "text/plain": [
       "                           262               264             95   \\\n",
       "opening_name  Sicilian Defense  Sicilian Defense  French Defense   \n",
       "winner                   black             white           white   \n",
       "size                      1299              1203             689   \n",
       "\n",
       "                       227             93            225             220  \\\n",
       "opening_name  Queen's Pawn  French Defense  Queen's Pawn  Queen's Gambit   \n",
       "winner               white           black         black           white   \n",
       "size                   664             653           646             512   \n",
       "\n",
       "                       128          150        246           126          148  \\\n",
       "opening_name  Italian Game  King's Pawn  Ruy Lopez  Italian Game  King's Pawn   \n",
       "winner               white        white      white         black        black   \n",
       "size                   483          462        451           451          450   \n",
       "\n",
       "                           203              81              218  \\\n",
       "opening_name  Philidor Defense  English Opening  Queen's Gambit   \n",
       "winner                   white            white           black   \n",
       "size                       396              395             365   \n",
       "\n",
       "                               251        244                   249  \\\n",
       "opening_name  Scandinavian Defense  Ruy Lopez  Scandinavian Defense   \n",
       "winner                       white      black                 black   \n",
       "size                           358        358                   332   \n",
       "\n",
       "                          79                 44                 42   \\\n",
       "opening_name  English Opening  Caro-Kann Defense  Caro-Kann Defense   \n",
       "winner                  black              white              black   \n",
       "size                      296                294                269   \n",
       "\n",
       "                           201          256                   292  \\\n",
       "opening_name  Philidor Defense  Scotch Game  Van't Kruijs Opening   \n",
       "winner                   black        white                 black   \n",
       "size                       267          251                   226   \n",
       "\n",
       "                      254                90                28   \\\n",
       "opening_name  Scotch Game  Four Knights Game  Bishop's Opening   \n",
       "winner              black              white             white   \n",
       "size                  199                193               186   \n",
       "\n",
       "                            307          122                88            206  \\\n",
       "opening_name  Zukertort Opening  Indian Game  Four Knights Game  Pirc Defense   \n",
       "winner                    white        black              black         white   \n",
       "size                        179          176                162           156   \n",
       "\n",
       "                              181           243            136  \\\n",
       "opening_name  Nimzowitsch Defense  Russian Game  King's Gambit   \n",
       "winner                      white         white          white   \n",
       "size                          147           146            138   \n",
       "\n",
       "                           263                305                   294  \\\n",
       "opening_name  Sicilian Defense  Zukertort Opening  Van't Kruijs Opening   \n",
       "winner                    draw              black                 white   \n",
       "size                       130                129                   126   \n",
       "\n",
       "                      124               26              167           204  \\\n",
       "opening_name  Indian Game  Bishop's Opening  Modern Defense  Pirc Defense   \n",
       "winner              white             black           black         black   \n",
       "size                  123               120             115           114   \n",
       "\n",
       "                       265           267              118  \\\n",
       "opening_name  Slav Defense  Slav Defense  Horwitz Defense   \n",
       "winner               black         white            white   \n",
       "size                   111           111              110   \n",
       "\n",
       "                                147               2               169  \\\n",
       "opening_name  King's Knight Opening  Alekhine Defense  Modern Defense   \n",
       "winner                        white             white           white   \n",
       "size                            103               103             101   \n",
       "\n",
       "                       241                    144                119  \\\n",
       "opening_name  Russian Game  King's Indian Defense  Hungarian Opening   \n",
       "winner               black                  white              black   \n",
       "size                    97                     95                 94   \n",
       "\n",
       "                          116          49                     142  \\\n",
       "opening_name  Horwitz Defense  Center Game  King's Indian Defense   \n",
       "winner                  black        black                  black   \n",
       "size                       94           93                     90   \n",
       "\n",
       "                        134           190           23                   176  \\\n",
       "opening_name  King's Gambit  Owen Defense  Bird Opening  Nimzo-Larsen Attack   \n",
       "winner                black         black         black                black   \n",
       "size                     90            83            82                   80   \n",
       "\n",
       "                       192                121          50                0    \\\n",
       "opening_name  Owen Defense  Hungarian Opening  Center Game  Alekhine Defense   \n",
       "winner               white              white        white             black   \n",
       "size                    79                 79           79                79   \n",
       "\n",
       "                              178                    145  \\\n",
       "opening_name  Nimzo-Larsen Attack  King's Knight Opening   \n",
       "winner                      white                  black   \n",
       "size                           76                     76   \n",
       "\n",
       "                               175          297                   173  \\\n",
       "opening_name  Nimzo-Indian Defense  Vienna Game  Nimzo-Indian Defense   \n",
       "winner                       white        white                 black   \n",
       "size                            74           73                    72   \n",
       "\n",
       "                         94                   179           226  \\\n",
       "opening_name  French Defense  Nimzowitsch Defense  Queen's Pawn   \n",
       "winner                  draw                black          draw   \n",
       "size                      70                   69            66   \n",
       "\n",
       "                         161            69           295  \\\n",
       "opening_name  Mieses Opening  Dutch Defense  Vienna Game   \n",
       "winner                 black          white        black   \n",
       "size                      62             62           61   \n",
       "\n",
       "                                281           25             67           230  \\\n",
       "opening_name  Three Knights Opening  Bird Opening  Dutch Defense  Rat Defense   \n",
       "winner                        white         white          black        white   \n",
       "size                             61            60             57           56   \n",
       "\n",
       "                       99                     279                261  \\\n",
       "opening_name  Giuoco Piano  Three Knights Opening  Semi-Slav Defense   \n",
       "winner               black                  black              white   \n",
       "size                    56                     50                 50   \n",
       "\n",
       "                    245           127                259           101  \\\n",
       "opening_name  Ruy Lopez  Italian Game  Semi-Slav Defense  Giuoco Piano   \n",
       "winner             draw          draw              black         white   \n",
       "size                 49            47                 46            46   \n",
       "\n",
       "                         211               198                   141  \\\n",
       "opening_name  Polish Opening  Petrov's Defense  King's Indian Attack   \n",
       "winner                 white             black                 white   \n",
       "size                      45                45                    44   \n",
       "\n",
       "                         84               75             62              163  \\\n",
       "opening_name  Englund Gambit  Elephant Gambit  Danish Gambit  Mieses Opening   \n",
       "winner                 white            white          white           white   \n",
       "size                      44               44             41              40   \n",
       "\n",
       "                         82           149             219               212  \\\n",
       "opening_name  Englund Gambit  King's Pawn  Queen's Gambit  Ponziani Opening   \n",
       "winner                 black         draw            draw             black   \n",
       "size                      40           36              35                35   \n",
       "\n",
       "                           200           233             209  \\\n",
       "opening_name  Petrov's Defense  Reti Opening  Polish Opening   \n",
       "winner                   white         white           black   \n",
       "size                        35            34              34   \n",
       "\n",
       "                            110              78                 43   \\\n",
       "opening_name  Gruenfeld Defense  English Defense  Caro-Kann Defense   \n",
       "winner                    white            white               draw   \n",
       "size                         34               34                 34   \n",
       "\n",
       "                           289              76           228  \\\n",
       "opening_name  Van Geet Opening  English Defense  Rat Defense   \n",
       "winner                   black            black        black   \n",
       "size                        33               33           31   \n",
       "\n",
       "                                 30              20                214  \\\n",
       "opening_name  Blackmar-Diemer Gambit  Benoni Defense  Ponziani Opening   \n",
       "winner                         white           black             white   \n",
       "size                              31              31                30   \n",
       "\n",
       "                                 29                    139              80   \\\n",
       "opening_name  Blackmar-Diemer Gambit  King's Indian Attack  English Opening   \n",
       "winner                         black                 black             draw   \n",
       "size                              30                    29               29   \n",
       "\n",
       "                            306                248           231  \\\n",
       "opening_name  Zukertort Opening  Saragossa Opening  Reti Opening   \n",
       "winner                     draw              white         black   \n",
       "size                         28                 28            28   \n",
       "\n",
       "                           202                 274              73   \\\n",
       "opening_name  Philidor Defense  St. George Defense  Elephant Gambit   \n",
       "winner                    draw               white            black   \n",
       "size                        28                  27               27   \n",
       "\n",
       "                        60                    250             22   \\\n",
       "opening_name  Danish Gambit  Scandinavian Defense  Benoni Defense   \n",
       "winner                black                  draw           white   \n",
       "size                     27                    26              26   \n",
       "\n",
       "                                 224                108           105  \\\n",
       "opening_name  Queen's Indian Defense  Gruenfeld Defense  Grob Opening   \n",
       "winner                         white              black         black   \n",
       "size                              25                 25            25   \n",
       "\n",
       "                                    239         189               291  \\\n",
       "opening_name  Robatsch (Modern) Defense  Old Indian  Van Geet Opening   \n",
       "winner                            white       white             white   \n",
       "size                                 23          23                22   \n",
       "\n",
       "                            247                     222            129  \\\n",
       "opening_name  Saragossa Opening  Queen's Indian Defense  Kadas Opening   \n",
       "winner                    black                   black          black   \n",
       "size                         22                      21             21   \n",
       "\n",
       "                      123               38                  184  \\\n",
       "opening_name  Indian Game  Budapest Defense  Old Benoni Defense   \n",
       "winner               draw             black               black   \n",
       "size                   20                20                  19   \n",
       "\n",
       "                             186              166                     87   \\\n",
       "opening_name  Old Benoni Defense  Mikenas Defense  Englund Gambit Complex   \n",
       "winner                     white            white                   white   \n",
       "size                          19               19                      19   \n",
       "\n",
       "                       300           282           266           205  \\\n",
       "opening_name  Ware Opening  Torre Attack  Slav Defense  Pirc Defense   \n",
       "winner               black         black          draw          draw   \n",
       "size                    18            18            18            18   \n",
       "\n",
       "                          164           302                 272  \\\n",
       "opening_name  Mikenas Defense  Ware Opening  St. George Defense   \n",
       "winner                  black         white               black   \n",
       "size                       18            17                  17   \n",
       "\n",
       "                                    237               27                 10   \\\n",
       "opening_name  Robatsch (Modern) Defense  Bishop's Opening  Anderssen Opening   \n",
       "winner                            black              draw              white   \n",
       "size                                 17                17                 17   \n",
       "\n",
       "                               293                287         187  \\\n",
       "opening_name  Van't Kruijs Opening  Trompowsky Attack  Old Indian   \n",
       "winner                        draw              white       black   \n",
       "size                            16                 16          16   \n",
       "\n",
       "                       53           255                   140  \\\n",
       "opening_name  Colle System  Scotch Game  King's Indian Attack   \n",
       "winner               black         draw                  draw   \n",
       "size                    16           15                    15   \n",
       "\n",
       "                            89            24                277  \\\n",
       "opening_name  Four Knights Game  Bird Opening  Tarrasch Defense   \n",
       "winner                     draw          draw             black   \n",
       "size                         15            15                13   \n",
       "\n",
       "                           278                 215            156  \\\n",
       "opening_name  Tarrasch Defense  Portuguese Opening  London System   \n",
       "winner                   white               black          black   \n",
       "size                        13                  13             13   \n",
       "\n",
       "                         152           284                260             208  \\\n",
       "opening_name  Latvian Gambit  Torre Attack  Semi-Slav Defense  Polish Defense   \n",
       "winner                 white         white               draw           white   \n",
       "size                      13            12                 12              12   \n",
       "\n",
       "                                    182                    143  \\\n",
       "opening_name  Nimzowitsch-Larsen Attack  King's Indian Defense   \n",
       "winner                            black                   draw   \n",
       "size                                 12                     12   \n",
       "\n",
       "                            104                        303                285  \\\n",
       "opening_name  Goldsmith Defense  Yusupov-Rubinstein System  Trompowsky Attack   \n",
       "winner                    white                      black              black   \n",
       "size                         12                         11                 11   \n",
       "\n",
       "                                    183                   174  \\\n",
       "opening_name  Nimzowitsch-Larsen Attack  Nimzo-Indian Defense   \n",
       "winner                            white                  draw   \n",
       "size                                 11                    11   \n",
       "\n",
       "                           96                   70              14   \\\n",
       "opening_name  Gedult's Opening  East Indian Defense  Barnes Defense   \n",
       "winner                   black                black           white   \n",
       "size                        11                   11              11   \n",
       "\n",
       "                         151           107                  72            54   \\\n",
       "opening_name  Latvian Gambit  Grob Opening  East Indian Defense  Colle System   \n",
       "winner                 black         white                white         white   \n",
       "size                      10            10                   10            10   \n",
       "\n",
       "                           1                          304           242  \\\n",
       "opening_name  Alekhine Defense  Yusupov-Rubinstein System  Russian Game   \n",
       "winner                    draw                      white          draw   \n",
       "size                        10                          9             9   \n",
       "\n",
       "                             216           191             168            135  \\\n",
       "opening_name  Portuguese Opening  Owen Defense  Modern Defense  King's Gambit   \n",
       "winner                     white          draw            draw           draw   \n",
       "size                           9             9               9              9   \n",
       "\n",
       "                       17            19            232                  180  \\\n",
       "opening_name  Benko Gambit  Benko Gambit  Reti Opening  Nimzowitsch Defense   \n",
       "winner               black         white          draw                 draw   \n",
       "size                     9             9             8                    8   \n",
       "\n",
       "                              177               113               98   \\\n",
       "opening_name  Nimzo-Larsen Attack  Gunderam Defense  Gedult's Opening   \n",
       "winner                       draw             white             white   \n",
       "size                            8                 8                 8   \n",
       "\n",
       "                       55                        32              21   \\\n",
       "opening_name  Crab Opening  Blumenfeld Countergambit  Benoni Defense   \n",
       "winner               black                     white            draw   \n",
       "size                     8                         8               8   \n",
       "\n",
       "                            8             4                       234  \\\n",
       "opening_name  Anderssen Opening  Amar Opening  Richter-Veresov Attack   \n",
       "winner                    black         white                   black   \n",
       "size                          8             8                       7   \n",
       "\n",
       "                                92            37                     280  \\\n",
       "opening_name  Franco-Benoni Defense  Borg Defense  Three Knights Opening   \n",
       "winner                        white         white                   draw   \n",
       "size                              7             7                      6   \n",
       "\n",
       "                          193                    172            131  \\\n",
       "opening_name  Paleface Attack  Neo-Gruenfeld Defense  Kadas Opening   \n",
       "winner                  black                  white          white   \n",
       "size                        6                      6              6   \n",
       "\n",
       "                            120           100            68            66   \\\n",
       "opening_name  Hungarian Opening  Giuoco Piano  Dutch Defense  Duras Gambit   \n",
       "winner                     draw          draw           draw         white   \n",
       "size                          6             6              6             6   \n",
       "\n",
       "                       36                        31            3    \\\n",
       "opening_name  Borg Defense  Blumenfeld Countergambit  Amar Opening   \n",
       "winner               black                     black         black   \n",
       "size                     6                         6             6   \n",
       "\n",
       "                      268          229               199              117  \\\n",
       "opening_name  Slav Indian  Rat Defense  Petrov's Defense  Horwitz Defense   \n",
       "winner              black         draw              draw             draw   \n",
       "size                    5            5                 5                5   \n",
       "\n",
       "                               115                111                103  \\\n",
       "opening_name  Hippopotamus Defense  Guatemala Defense  Goldsmith Defense   \n",
       "winner                       white              white              black   \n",
       "size                             5                  5                  5   \n",
       "\n",
       "                                 85            64               51   \\\n",
       "opening_name  Englund Gambit Complex  Duras Gambit  Clemenz Opening   \n",
       "winner                         black         black            black   \n",
       "size                               5             5                5   \n",
       "\n",
       "                          48                39                   33   \\\n",
       "opening_name  Catalan Opening  Budapest Defense  Bogo-Indian Defense   \n",
       "winner                  white             white                black   \n",
       "size                        5                 5                    5   \n",
       "\n",
       "                             273            253                     236  \\\n",
       "opening_name  St. George Defense  Scotch Gambit  Richter-Veresov Attack   \n",
       "winner                      draw          white                   white   \n",
       "size                           4              4                       4   \n",
       "\n",
       "                                 223                         221  \\\n",
       "opening_name  Queen's Indian Defense  Queen's Indian Accelerated   \n",
       "winner                          draw                       white   \n",
       "size                               4                           4   \n",
       "\n",
       "                         210              194            158           154  \\\n",
       "opening_name  Polish Opening  Paleface Attack  London System  Lion Defense   \n",
       "winner                  draw            white          white         black   \n",
       "size                       4                4              4             4   \n",
       "\n",
       "                                146              52            46   \\\n",
       "opening_name  King's Knight Opening  Clemenz Opening  Carr Defense   \n",
       "winner                         draw            white         white   \n",
       "size                              4                4             4   \n",
       "\n",
       "                              35              12           296  \\\n",
       "opening_name  Bogo-Indian Defense  Barnes Defense  Vienna Game   \n",
       "winner                      white           black         draw   \n",
       "size                            4               4            3   \n",
       "\n",
       "                           290                286           283  \\\n",
       "opening_name  Van Geet Opening  Trompowsky Attack  Torre Attack   \n",
       "winner                    draw               draw          draw   \n",
       "size                         3                  3             3   \n",
       "\n",
       "                        270            252     195     196     197  \\\n",
       "opening_name  Sodium Attack  Scotch Gambit  Petrov  Petrov  Petrov   \n",
       "winner                black          black   black    draw   white   \n",
       "size                      3              3       3       3       3   \n",
       "\n",
       "                          159              160            157  \\\n",
       "opening_name  Mexican Defense  Mexican Defense  London System   \n",
       "winner                  black            white           draw   \n",
       "size                        3                3              3   \n",
       "\n",
       "                          153               132               133  \\\n",
       "opening_name  Lemming Defense  Kangaroo Defense  Kangaroo Defense   \n",
       "winner                  white             black             white   \n",
       "size                        3                 3                 3   \n",
       "\n",
       "                       125               112             83             59   \\\n",
       "opening_name  Irish Gambit  Gunderam Defense  Englund Gambit  Czech Defense   \n",
       "winner               black             black            draw          white   \n",
       "size                     3                 3               3              3   \n",
       "\n",
       "                                  56             5       276          258  \\\n",
       "opening_name  Creepy Crawly Formation  Amazon Attack  System  Semi-Bononi   \n",
       "winner                          black          black   white        white   \n",
       "size                                3              3       2            2   \n",
       "\n",
       "                             240                        238             207  \\\n",
       "opening_name  Rubinstein Opening  Robatsch (Modern) Defense  Polish Defense   \n",
       "winner                     white                       draw           black   \n",
       "size                           2                          2               2   \n",
       "\n",
       "                     188                    170            138            130  \\\n",
       "opening_name  Old Indian  Neo-Gruenfeld Defense  King's Indian  Kadas Opening   \n",
       "winner              draw                  black          white           draw   \n",
       "size                   2                      2              2              2   \n",
       "\n",
       "                            109           106               97   \\\n",
       "opening_name  Gruenfeld Defense  Grob Opening  Gedult's Opening   \n",
       "winner                     draw          draw              draw   \n",
       "size                          2             2                 2   \n",
       "\n",
       "                        61                       57              40   \\\n",
       "opening_name  Danish Gambit  Creepy Crawly Formation  Canard Opening   \n",
       "winner                 draw                    white           black   \n",
       "size                      2                        2               2   \n",
       "\n",
       "                         41            18             7             301  \\\n",
       "opening_name  Canard Opening  Benko Gambit  Amazon Attack  Ware Opening   \n",
       "winner                 white          draw          white          draw   \n",
       "size                       2             2              2             1   \n",
       "\n",
       "                       298           299               288     275  \\\n",
       "opening_name  Wade Defense  Wade Defense  Valencia Opening  System   \n",
       "winner               black         white             black   black   \n",
       "size                     1             1                 1       1   \n",
       "\n",
       "                        271          269          257                     235  \\\n",
       "opening_name  Sodium Attack  Slav Indian  Semi-Bononi  Richter-Veresov Attack   \n",
       "winner                white        white        black                    draw   \n",
       "size                      1            1            1                       1   \n",
       "\n",
       "                              217               213                 185  \\\n",
       "opening_name  Pterodactyl Defense  Ponziani Opening  Old Benoni Defense   \n",
       "winner                      white              draw                draw   \n",
       "size                            1                 1                   1   \n",
       "\n",
       "                                171              165             162  \\\n",
       "opening_name  Neo-Gruenfeld Defense  Mikenas Defense  Mieses Opening   \n",
       "winner                         draw             draw            draw   \n",
       "size                              1                1               1   \n",
       "\n",
       "                       155            137                   114  \\\n",
       "opening_name  Lion Defense  King's Indian  Hippopotamus Defense   \n",
       "winner               white          black                 black   \n",
       "size                     1              1                     1   \n",
       "\n",
       "                         102                    91                      86   \\\n",
       "opening_name  Global Opening  Franco-Benoni Defense  Englund Gambit Complex   \n",
       "winner                 white                  black                    draw   \n",
       "size                       1                      1                       1   \n",
       "\n",
       "                          77               74                   71   \\\n",
       "opening_name  English Defense  Elephant Gambit  East Indian Defense   \n",
       "winner                   draw             draw                 draw   \n",
       "size                        1                1                    1   \n",
       "\n",
       "                       65             63             58               47   \\\n",
       "opening_name  Duras Gambit  Doery Defense  Czech Defense  Catalan Opening   \n",
       "winner                draw          black          black            black   \n",
       "size                     1              1              1                1   \n",
       "\n",
       "                       45                   34              15   \\\n",
       "opening_name  Carr Defense  Bogo-Indian Defense  Barnes Opening   \n",
       "winner                draw                 draw            draw   \n",
       "size                     1                    1               1   \n",
       "\n",
       "                         16              13                  11   \\\n",
       "opening_name  Barnes Opening  Barnes Defense  Australian Defense   \n",
       "winner                 white            draw               white   \n",
       "size                       1               1                   1   \n",
       "\n",
       "                            9              6    \n",
       "opening_name  Anderssen Opening  Amazon Attack  \n",
       "winner                     draw           draw  \n",
       "size                          1              1  "
      ]
     },
     "execution_count": 236,
     "metadata": {},
     "output_type": "execute_result"
    }
   ],
   "source": [
    "do_ow = data.groupby(['opening_name', 'winner'], as_index=False).size().sort_values(by=['size', 'opening_name'], ascending=False)\n",
    "do_ow.T"
   ]
  },
  {
   "cell_type": "markdown",
   "metadata": {
    "id": "sdJjo5n_aKHq"
   },
   "source": [
    "The most used opening moves in the data"
   ]
  },
  {
   "cell_type": "markdown",
   "metadata": {
    "id": "9aH3Q_XIgho2"
   },
   "source": [
    "We have 122 openings, hence most of them are used only a few times while:"
   ]
  },
  {
   "cell_type": "code",
   "execution_count": 237,
   "metadata": {
    "colab": {
     "base_uri": "https://localhost:8080/"
    },
    "id": "GAZR609sSbtC",
    "outputId": "8fe9e247-3468-4ed4-ddba-e6953a4dded0"
   },
   "outputs": [
    {
     "name": "stdout",
     "output_type": "stream",
     "text": [
      "32.79% of the openings are used in 90.04% of the data!!\n"
     ]
    }
   ],
   "source": [
    "half_use = data.groupby('opening_name', as_index=False).size().sort_values(by='size', ascending=False)[0:40]['size'].sum() \n",
    "print(\"{:.2f}% of the openings are used in {:.2f}% of the data!!\".format(40/122*100, half_use/data.shape[0]*100))"
   ]
  },
  {
   "cell_type": "markdown",
   "metadata": {
    "id": "Z-RNaKfZavrG"
   },
   "source": [
    "Checking the Victory status (how the game ended, it can be 'outoftime', 'resign', 'mate' or 'draw')\n",
    " "
   ]
  },
  {
   "cell_type": "code",
   "execution_count": 238,
   "metadata": {
    "colab": {
     "base_uri": "https://localhost:8080/",
     "height": 0
    },
    "id": "c3PyKPEk5sJ-",
    "outputId": "b81345c4-3d1c-42cb-c99b-ef861f498997"
   },
   "outputs": [
    {
     "data": {
      "image/png": "[encoded data removed]",
      "text/plain": [
       "<Figure size 432x288 with 1 Axes>"
      ]
     },
     "metadata": {},
     "output_type": "display_data"
    }
   ],
   "source": [
    "p = sns.countplot(x=data['victory_status'])\n",
    "plt.show()"
   ]
  },
  {
   "cell_type": "code",
   "execution_count": 239,
   "metadata": {
    "colab": {
     "base_uri": "https://localhost:8080/",
     "height": 0
    },
    "id": "lTAMc1uhHOGd",
    "outputId": "823df767-adee-4ff2-d3a7-235def482662"
   },
   "outputs": [
    {
     "data": {
      "image/png": "[encoded data removed]",
      "text/plain": [
       "<Figure size 432x288 with 1 Axes>"
      ]
     },
     "metadata": {},
     "output_type": "display_data"
    }
   ],
   "source": [
    "p = sns.countplot(x=data['victory_status'], hue=data['winner'])\n",
    "plt.show()"
   ]
  },
  {
   "cell_type": "markdown",
   "metadata": {
    "id": "sRDkvDAmAF31"
   },
   "source": [
    "Deriving 4 new features : winner_id, loser_id, winner_rating, loser_rating.\n",
    "To make analytics easier (without having to go back to the winner feature to find who won or their rating)"
   ]
  },
  {
   "cell_type": "code",
   "execution_count": 240,
   "metadata": {
    "id": "c6xetbwXyX-n"
   },
   "outputs": [],
   "source": [
    "for i in range(data.shape[0]):\n",
    "  if data.loc[i, 'winner'] == 'black':\n",
    "    data.loc[i, 'winner_id'] = data.loc[i, 'black_id']\n",
    "    data.loc[i, 'loser_id'] = data.loc[i, 'white_id']\n",
    "    data.loc[i, 'winner_rating'] = data.loc[i, 'black_rating']\n",
    "    data.loc[i, 'loser_rating'] = data.loc[i, 'white_rating']\n",
    "  if data.loc[i, 'winner'] == 'white':\n",
    "    data.loc[i, 'winner_id'] = data.loc[i, 'white_id']\n",
    "    data.loc[i, 'loser_id'] = data.loc[i, 'black_id']\n",
    "    data.loc[i, 'winner_rating'] = data.loc[i, 'white_rating']\n",
    "    data.loc[i, 'loser_rating'] = data.loc[i, 'black_rating']"
   ]
  },
  {
   "cell_type": "markdown",
   "metadata": {
    "id": "Zwlu_HdcAGCh"
   },
   "source": [
    "Visualisation of the rate of the games where the better rated player won"
   ]
  },
  {
   "cell_type": "code",
   "execution_count": 241,
   "metadata": {
    "colab": {
     "base_uri": "https://localhost:8080/",
     "height": 0
    },
    "id": "gy-6QaTz3qo1",
    "outputId": "c1c808a3-35c3-4d0e-801c-dfbd4dcbd04e"
   },
   "outputs": [
    {
     "data": {
      "text/plain": [
       "<matplotlib.axes._subplots.AxesSubplot at 0x7fb624051a90>"
      ]
     },
     "execution_count": 241,
     "metadata": {},
     "output_type": "execute_result"
    },
    {
     "data": {
      "image/png": "[encoded data removed]",
      "text/plain": [
       "<Figure size 432x288 with 1 Axes>"
      ]
     },
     "metadata": {},
     "output_type": "display_data"
    }
   ],
   "source": [
    "data['better_won'] = data['winner_rating'] > data['loser_rating']\n",
    "pl = data['better_won'].value_counts(normalize=True).rename('percentage').mul(100).reset_index()\n",
    "pl.columns = ['better_rated_Won', 'percentage']\n",
    "sns.barplot(x='better_rated_Won', y='percentage', data=pl)"
   ]
  },
  {
   "cell_type": "markdown",
   "metadata": {
    "id": "yRGWPEKTu4sz"
   },
   "source": [
    "The player who won more games:"
   ]
  },
  {
   "cell_type": "code",
   "execution_count": 242,
   "metadata": {
    "colab": {
     "base_uri": "https://localhost:8080/"
    },
    "id": "yB_9sJ8honxj",
    "outputId": "0e2c0456-eb45-4c0a-9af0-17cdcf78425b"
   },
   "outputs": [
    {
     "data": {
      "text/plain": [
       "taranga               72\n",
       "vladimir-kramnik-1    50\n",
       "a_p_t_e_m_u_u         46\n",
       "chesscarl             45\n",
       "ducksandcats          43\n",
       "                      ..\n",
       "achter                 1\n",
       "josefreitas            1\n",
       "chessplay77            1\n",
       "jack11                 1\n",
       "ibanelani              1\n",
       "Name: winner_id, Length: 8878, dtype: int64"
      ]
     },
     "execution_count": 242,
     "metadata": {},
     "output_type": "execute_result"
    }
   ],
   "source": [
    "data['winner_id'].value_counts()"
   ]
  },
  {
   "cell_type": "markdown",
   "metadata": {
    "id": "ihJUTnjiLdzk"
   },
   "source": [
    "Let's find next the proportion of games won by the best winning player where they had better rating"
   ]
  },
  {
   "cell_type": "code",
   "execution_count": 243,
   "metadata": {
    "colab": {
     "base_uri": "https://localhost:8080/"
    },
    "id": "Bgkf5c7mA_ei",
    "outputId": "1617cc32-bfd0-4196-da6b-e4a8bd7d5649"
   },
   "outputs": [
    {
     "name": "stdout",
     "output_type": "stream",
     "text": [
      "taranga\n"
     ]
    }
   ],
   "source": [
    "most_wins_id = data['winner_id'].value_counts().index[0]\n",
    "print(most_wins_id)"
   ]
  },
  {
   "cell_type": "code",
   "execution_count": 244,
   "metadata": {
    "colab": {
     "base_uri": "https://localhost:8080/"
    },
    "id": "CRUf7tkdvXvE",
    "outputId": "800ae75a-a258-4915-b348-0b6ff7d09bd4"
   },
   "outputs": [
    {
     "name": "stdout",
     "output_type": "stream",
     "text": [
      "The number of games won by the most wining player where they had better rating = 36\n",
      "The percentage of games won by the most wining player where they had better rating = 50.0%\n"
     ]
    }
   ],
   "source": [
    "better_rated = data.loc[(data['winner_id'] == most_wins_id) & (data['winner_rating'] >= data['loser_rating'])].shape[0]\n",
    "all_games = data.loc[(data['winner_id'] == most_wins_id)].shape[0]\n",
    "print(\"The number of games won by the most wining player where they had better rating = {}\".format(better_rated))\n",
    "print(\"The percentage of games won by the most wining player where they had better rating = {}%\".format(better_rated/all_games*100))"
   ]
  },
  {
   "cell_type": "code",
   "execution_count": 245,
   "metadata": {
    "colab": {
     "base_uri": "https://localhost:8080/"
    },
    "id": "yCaBRT8Vz_zg",
    "outputId": "cae111b1-27e6-46f8-cad2-7c00c51f23b5"
   },
   "outputs": [
    {
     "name": "stdout",
     "output_type": "stream",
     "text": [
      "The player who won more games: 'taranga' has a winning rate of 46.75%\n"
     ]
    }
   ],
   "source": [
    "nbr_games = data.loc[(data['white_id'] == most_wins_id) | (data['black_id'] == most_wins_id)].shape[0]\n",
    "rate_win = all_games/nbr_games*100\n",
    "print(\"The player who won more games: '{}' has a winning rate of {:.2f}%\".format(most_wins_id, rate_win))"
   ]
  },
  {
   "cell_type": "markdown",
   "metadata": {
    "id": "kOGgCcFk1gA8"
   },
   "source": [
    "Despite that this player won more games than any other in the dataset, but he lost more games than he won."
   ]
  },
  {
   "cell_type": "markdown",
   "metadata": {
    "id": "jU1fOWyui85w"
   },
   "source": [
    "# Features Preprocessing"
   ]
  },
  {
   "cell_type": "markdown",
   "metadata": {
    "id": "z5JJ6sj_bkSS"
   },
   "source": [
    "We want to get a new feature: \"number of moves\" which designs the number of moves made at each game,\n",
    "we can extract this feature from the moves feature (which consists of the list of moves made in the game)."
   ]
  },
  {
   "cell_type": "code",
   "execution_count": 246,
   "metadata": {
    "colab": {
     "base_uri": "https://localhost:8080/",
     "height": 0
    },
    "id": "QbK_a9yjaKwW",
    "outputId": "a6136f69-9bdf-4e4b-bf96-f677484322bf"
   },
   "outputs": [
    {
     "data": {
      "application/vnd.google.colaboratory.intrinsic+json": {
       "type": "string"
      },
      "text/plain": [
       "'d4 d5 c4 c6 cxd5 e6 dxe6 fxe6 Nf3 Bb4+ Nc3 Ba5 Bf4'"
      ]
     },
     "execution_count": 246,
     "metadata": {},
     "output_type": "execute_result"
    }
   ],
   "source": [
    "data['moves'][0]"
   ]
  },
  {
   "cell_type": "code",
   "execution_count": 247,
   "metadata": {
    "id": "F7tdHJZYb7Yr"
   },
   "outputs": [],
   "source": [
    "data['splitted_moves'] = [x.split(' ') for x in data['moves']]"
   ]
  },
  {
   "cell_type": "code",
   "execution_count": 248,
   "metadata": {
    "id": "poSIvQ04ghQM"
   },
   "outputs": [],
   "source": [
    "data['moves_count'] = [len(x) for x in data['splitted_moves']]"
   ]
  },
  {
   "cell_type": "code",
   "execution_count": 249,
   "metadata": {
    "colab": {
     "base_uri": "https://localhost:8080/",
     "height": 0
    },
    "id": "DAyJqU7jgif5",
    "outputId": "3d328387-7867-4f7d-facc-8f520f81bda4"
   },
   "outputs": [
    {
     "data": {
      "image/png": "[encoded data removed]",
      "text/plain": [
       "<Figure size 864x432 with 1 Axes>"
      ]
     },
     "metadata": {},
     "output_type": "display_data"
    }
   ],
   "source": [
    "fig, axs = plt.subplots(figsize=(12, 6))\n",
    "sns.histplot(x=data['moves_count'], hue=data['winner'])\n",
    "plt.show()"
   ]
  },
  {
   "cell_type": "markdown",
   "metadata": {
    "id": "uXU5zRKcT4vi"
   },
   "source": [
    "Introducing a new feature duration"
   ]
  },
  {
   "cell_type": "code",
   "execution_count": 250,
   "metadata": {
    "id": "rzpW9zKjNaGo"
   },
   "outputs": [],
   "source": [
    "data['created_at_dt'] = pd.to_datetime(data['created_at']/1000, unit='s', origin='unix')\n",
    "data['last_move_at_dt'] = pd.to_datetime(data['last_move_at']/1000, unit='s', origin='unix')\n",
    "data['created_at_ts'] = [pd.Timestamp(x) for x in data['created_at_dt']]\n",
    "data['last_move_at_ts'] = [pd.Timestamp(x) for x in data['last_move_at_dt']]"
   ]
  },
  {
   "cell_type": "code",
   "execution_count": 251,
   "metadata": {
    "id": "iPm6oz5ZNoSi"
   },
   "outputs": [],
   "source": [
    "data['duration'] = (data['last_move_at_ts'] - data['created_at_ts']).astype('timedelta64[s]')"
   ]
  },
  {
   "cell_type": "code",
   "execution_count": 252,
   "metadata": {
    "colab": {
     "base_uri": "https://localhost:8080/"
    },
    "id": "ucb6GQBJJRHw",
    "outputId": "e856971e-2c74-4ef7-e45d-27dc3b7b45d4"
   },
   "outputs": [
    {
     "data": {
      "text/plain": [
       "count     20058.000000\n",
       "mean        869.439625\n",
       "std        4814.218110\n",
       "min           0.000000\n",
       "25%           0.000000\n",
       "50%         240.000000\n",
       "75%         793.000000\n",
       "max      605844.000000\n",
       "Name: duration, dtype: float64"
      ]
     },
     "execution_count": 252,
     "metadata": {},
     "output_type": "execute_result"
    }
   ],
   "source": [
    "data['duration'].describe()"
   ]
  },
  {
   "cell_type": "code",
   "execution_count": 253,
   "metadata": {
    "colab": {
     "base_uri": "https://localhost:8080/"
    },
    "id": "ataQG8nkPvqY",
    "outputId": "ecf4c9a7-e5c2-4c17-d238-65d7a834383e"
   },
   "outputs": [
    {
     "name": "stdout",
     "output_type": "stream",
     "text": [
      "The number of games that ended in 0 seconds is 8548, this makes up 42.62% of the total number of games\n"
     ]
    }
   ],
   "source": [
    "dur0 = data[data['duration'] == 0].shape[0]\n",
    "print(\"The number of games that ended in 0 seconds is {}, this makes up {:.2f}% of the total number of games\".format(dur0, dur0/data.shape[0]*100))"
   ]
  },
  {
   "cell_type": "code",
   "execution_count": 254,
   "metadata": {
    "colab": {
     "base_uri": "https://localhost:8080/"
    },
    "id": "5IbXFYTOR4Ck",
    "outputId": "663a2764-05f1-4d80-ce63-07d909ccf206"
   },
   "outputs": [
    {
     "name": "stdout",
     "output_type": "stream",
     "text": [
      "The number of games with 0 moves is 0\n"
     ]
    }
   ],
   "source": [
    "mov0 = data[data['moves'] == 0].shape[0]\n",
    "print(\"The number of games with 0 moves is {}\".format(mov0))"
   ]
  },
  {
   "cell_type": "markdown",
   "metadata": {
    "id": "C5Xa7NdtRwXr"
   },
   "source": [
    "This is contradictory to what we know about the dataset, we can't have a game with 0 seconds as duration while having a number of moves > 0 \n",
    "The duration feature is useless in our study "
   ]
  },
  {
   "cell_type": "markdown",
   "metadata": {
    "id": "A7bar6_hEjIm"
   },
   "source": [
    "Discretization of the rating features (white_rating, black_rating)"
   ]
  },
  {
   "cell_type": "code",
   "execution_count": 255,
   "metadata": {
    "colab": {
     "base_uri": "https://localhost:8080/"
    },
    "id": "z7FG29CmBGaz",
    "outputId": "92478e56-6897-4bd9-bfa1-75538c070b98"
   },
   "outputs": [
    {
     "name": "stdout",
     "output_type": "stream",
     "text": [
      "The max rating in the dataset = 2723\n",
      "The min rating in the dataset = 784\n",
      "The max rating in the dataset = 1592.73\n"
     ]
    }
   ],
   "source": [
    "#since we have two ratings features at each game, we will use the average of them to proceed with our analysis\n",
    "print(\"The max rating in the dataset = {}\".format(max(data['white_rating'].max(),data['black_rating'].max())))\n",
    "print(\"The min rating in the dataset = {}\".format(min(data['white_rating'].min(),data['black_rating'].min())))\n",
    "print(\"The max rating in the dataset = {:.2f}\".format((data['white_rating'].mean()+data['black_rating'].mean())/2))"
   ]
  },
  {
   "cell_type": "code",
   "execution_count": 256,
   "metadata": {
    "id": "P1H8PzvwJiVj"
   },
   "outputs": [],
   "source": [
    "def brackets(x):\n",
    "    n=900\n",
    "    while n<2800:\n",
    "        if x <=n:\n",
    "            return f\"{n-200} - {n}\"\n",
    "        n += 200\n",
    "\n",
    "data[\"white_rating_bracket\"] = data[\"white_rating\"].apply(brackets)\n",
    "data[\"black_rating_bracket\"] = data[\"black_rating\"].apply(brackets)"
   ]
  },
  {
   "cell_type": "code",
   "execution_count": 257,
   "metadata": {
    "colab": {
     "base_uri": "https://localhost:8080/"
    },
    "id": "3pb7O2KWJ_yU",
    "outputId": "179cd1fa-baf1-4637-a648-c256c73880cf"
   },
   "outputs": [
    {
     "data": {
      "text/plain": [
       "1300 - 1500    5257\n",
       "1500 - 1700    4864\n",
       "1700 - 1900    3803\n",
       "1100 - 1300    2439\n",
       "1900 - 2100    1913\n",
       "2100 - 2300     853\n",
       "900 - 1100      663\n",
       "2300 - 2500     156\n",
       "700 - 900        86\n",
       "2500 - 2700      23\n",
       "Name: black_rating_bracket, dtype: int64"
      ]
     },
     "execution_count": 257,
     "metadata": {},
     "output_type": "execute_result"
    }
   ],
   "source": [
    "data[\"black_rating_bracket\"].value_counts()"
   ]
  },
  {
   "cell_type": "code",
   "execution_count": 258,
   "metadata": {
    "colab": {
     "base_uri": "https://localhost:8080/"
    },
    "id": "zxJU8uRNKGFO",
    "outputId": "0373f2ca-ebe8-4490-fcf8-ffb9eb9646d3"
   },
   "outputs": [
    {
     "data": {
      "text/plain": [
       "1300 - 1500    5148\n",
       "1500 - 1700    4977\n",
       "1700 - 1900    3863\n",
       "1100 - 1300    2339\n",
       "1900 - 2100    1964\n",
       "2100 - 2300     862\n",
       "900 - 1100      629\n",
       "2300 - 2500     176\n",
       "700 - 900        60\n",
       "2500 - 2700      40\n",
       "Name: white_rating_bracket, dtype: int64"
      ]
     },
     "execution_count": 258,
     "metadata": {},
     "output_type": "execute_result"
    }
   ],
   "source": [
    "data[\"white_rating_bracket\"].value_counts()"
   ]
  },
  {
   "cell_type": "markdown",
   "metadata": {
    "id": "5SfdtfuCTnEL"
   },
   "source": [
    "Introducing a new variable rating diff"
   ]
  },
  {
   "cell_type": "code",
   "execution_count": 259,
   "metadata": {
    "id": "_z6N3s0VTmTB"
   },
   "outputs": [],
   "source": [
    "data['rating_diff'] = data['white_rating'] - data['black_rating']"
   ]
  },
  {
   "cell_type": "markdown",
   "metadata": {
    "id": "UNqzMT_TSePg"
   },
   "source": [
    "Getting the 1st move of every game"
   ]
  },
  {
   "cell_type": "code",
   "execution_count": 260,
   "metadata": {
    "id": "_N-k0d1tVNXY"
   },
   "outputs": [],
   "source": [
    "data['first_move'] = [x[0] for x in data['splitted_moves']]"
   ]
  },
  {
   "cell_type": "markdown",
   "metadata": {
    "id": "Gt1cBHD-l46m"
   },
   "source": [
    "We will create a model that predicts the games with a winner (black or white) only, the games ended in a draw are very few compared to the rest, so they will serve as a noise for our classification if we use them"
   ]
  },
  {
   "cell_type": "code",
   "execution_count": 261,
   "metadata": {
    "id": "y1GO778Bl1Y4"
   },
   "outputs": [],
   "source": [
    "data = data[data['winner'] != 'draw']"
   ]
  },
  {
   "cell_type": "code",
   "execution_count": 262,
   "metadata": {
    "id": "guppELHYn9oN"
   },
   "outputs": [],
   "source": [
    "data.reset_index(drop=True, inplace=True)"
   ]
  },
  {
   "cell_type": "code",
   "execution_count": 263,
   "metadata": {
    "colab": {
     "base_uri": "https://localhost:8080/"
    },
    "id": "degBbja5mUCN",
    "outputId": "859f8445-f616-4078-85f8-74e7aedf176b"
   },
   "outputs": [
    {
     "data": {
      "text/plain": [
       "(19108, 32)"
      ]
     },
     "execution_count": 263,
     "metadata": {},
     "output_type": "execute_result"
    }
   ],
   "source": [
    "data.shape"
   ]
  },
  {
   "cell_type": "markdown",
   "metadata": {
    "id": "dISqExFUUpqf"
   },
   "source": [
    "Now we will try to create a classification model, the features we will be using are the following : \n",
    "\"rated\", \"victory_status\", \"winner\", \"first_move\", \"turns\", \"white_rating\", \"black_rating\", \"opening_ply\", \"increment_code\", \"opening_eco\", \"opening_name\", \"rating_diff\".\n",
    "we will use a Decision tree model first"
   ]
  },
  {
   "cell_type": "code",
   "execution_count": 264,
   "metadata": {
    "id": "H-h5RuhkUwVC"
   },
   "outputs": [],
   "source": [
    "model_data = data[[\"rated\", \"victory_status\", \"winner\", \"turns\", \"white_rating_bracket\", \"black_rating_bracket\", \"first_move\", \"opening_ply\", \"increment_code\", \"opening_eco\", \"opening_name\", \"rating_diff\"]]"
   ]
  },
  {
   "cell_type": "code",
   "execution_count": 265,
   "metadata": {
    "colab": {
     "base_uri": "https://localhost:8080/",
     "height": 0
    },
    "id": "dvdS3fRFWv1r",
    "outputId": "8af623f2-a480-4462-91f1-feeae1767f22"
   },
   "outputs": [
    {
     "data": {
      "text/html": [
       "<div>\n",
       "<style scoped>\n",
       "    .dataframe tbody tr th:only-of-type {\n",
       "        vertical-align: middle;\n",
       "    }\n",
       "\n",
       "    .dataframe tbody tr th {\n",
       "        vertical-align: top;\n",
       "    }\n",
       "\n",
       "    .dataframe thead th {\n",
       "        text-align: right;\n",
       "    }\n",
       "</style>\n",
       "<table border=\"1\" class=\"dataframe\">\n",
       "  <thead>\n",
       "    <tr style=\"text-align: right;\">\n",
       "      <th></th>\n",
       "      <th>rated</th>\n",
       "      <th>victory_status</th>\n",
       "      <th>winner</th>\n",
       "      <th>turns</th>\n",
       "      <th>white_rating_bracket</th>\n",
       "      <th>black_rating_bracket</th>\n",
       "      <th>first_move</th>\n",
       "      <th>opening_ply</th>\n",
       "      <th>increment_code</th>\n",
       "      <th>opening_eco</th>\n",
       "      <th>opening_name</th>\n",
       "      <th>rating_diff</th>\n",
       "    </tr>\n",
       "  </thead>\n",
       "  <tbody>\n",
       "    <tr>\n",
       "      <th>0</th>\n",
       "      <td>False</td>\n",
       "      <td>outoftime</td>\n",
       "      <td>white</td>\n",
       "      <td>13</td>\n",
       "      <td>1300 - 1500</td>\n",
       "      <td>1100 - 1300</td>\n",
       "      <td>d4</td>\n",
       "      <td>5</td>\n",
       "      <td>15+2</td>\n",
       "      <td>D10</td>\n",
       "      <td>Slav Defense</td>\n",
       "      <td>309</td>\n",
       "    </tr>\n",
       "    <tr>\n",
       "      <th>1</th>\n",
       "      <td>True</td>\n",
       "      <td>resign</td>\n",
       "      <td>black</td>\n",
       "      <td>16</td>\n",
       "      <td>1300 - 1500</td>\n",
       "      <td>1100 - 1300</td>\n",
       "      <td>d4</td>\n",
       "      <td>4</td>\n",
       "      <td>5+10</td>\n",
       "      <td>B00</td>\n",
       "      <td>Nimzowitsch Defense</td>\n",
       "      <td>61</td>\n",
       "    </tr>\n",
       "    <tr>\n",
       "      <th>2</th>\n",
       "      <td>True</td>\n",
       "      <td>mate</td>\n",
       "      <td>white</td>\n",
       "      <td>61</td>\n",
       "      <td>1300 - 1500</td>\n",
       "      <td>1300 - 1500</td>\n",
       "      <td>e4</td>\n",
       "      <td>3</td>\n",
       "      <td>5+10</td>\n",
       "      <td>C20</td>\n",
       "      <td>King's Pawn</td>\n",
       "      <td>-4</td>\n",
       "    </tr>\n",
       "    <tr>\n",
       "      <th>3</th>\n",
       "      <td>True</td>\n",
       "      <td>mate</td>\n",
       "      <td>white</td>\n",
       "      <td>61</td>\n",
       "      <td>1300 - 1500</td>\n",
       "      <td>1300 - 1500</td>\n",
       "      <td>d4</td>\n",
       "      <td>3</td>\n",
       "      <td>20+0</td>\n",
       "      <td>D02</td>\n",
       "      <td>Queen's Pawn</td>\n",
       "      <td>-15</td>\n",
       "    </tr>\n",
       "    <tr>\n",
       "      <th>4</th>\n",
       "      <td>True</td>\n",
       "      <td>mate</td>\n",
       "      <td>white</td>\n",
       "      <td>95</td>\n",
       "      <td>1500 - 1700</td>\n",
       "      <td>1300 - 1500</td>\n",
       "      <td>e4</td>\n",
       "      <td>5</td>\n",
       "      <td>30+3</td>\n",
       "      <td>C41</td>\n",
       "      <td>Philidor Defense</td>\n",
       "      <td>54</td>\n",
       "    </tr>\n",
       "  </tbody>\n",
       "</table>\n",
       "</div>"
      ],
      "text/plain": [
       "   rated victory_status winner  turns white_rating_bracket  \\\n",
       "0  False      outoftime  white     13          1300 - 1500   \n",
       "1   True         resign  black     16          1300 - 1500   \n",
       "2   True           mate  white     61          1300 - 1500   \n",
       "3   True           mate  white     61          1300 - 1500   \n",
       "4   True           mate  white     95          1500 - 1700   \n",
       "\n",
       "  black_rating_bracket first_move  opening_ply increment_code opening_eco  \\\n",
       "0          1100 - 1300         d4            5           15+2         D10   \n",
       "1          1100 - 1300         d4            4           5+10         B00   \n",
       "2          1300 - 1500         e4            3           5+10         C20   \n",
       "3          1300 - 1500         d4            3           20+0         D02   \n",
       "4          1300 - 1500         e4            5           30+3         C41   \n",
       "\n",
       "          opening_name  rating_diff  \n",
       "0         Slav Defense          309  \n",
       "1  Nimzowitsch Defense           61  \n",
       "2          King's Pawn           -4  \n",
       "3         Queen's Pawn          -15  \n",
       "4     Philidor Defense           54  "
      ]
     },
     "execution_count": 265,
     "metadata": {},
     "output_type": "execute_result"
    }
   ],
   "source": [
    "model_data.head()"
   ]
  },
  {
   "cell_type": "code",
   "execution_count": 266,
   "metadata": {
    "colab": {
     "base_uri": "https://localhost:8080/"
    },
    "id": "le5gQiREm-Hx",
    "outputId": "b8525649-44e4-4ed7-847e-b7b01442e02a"
   },
   "outputs": [
    {
     "data": {
      "text/plain": [
       "(19108, 12)"
      ]
     },
     "execution_count": 266,
     "metadata": {},
     "output_type": "execute_result"
    }
   ],
   "source": [
    "model_data.shape"
   ]
  },
  {
   "cell_type": "markdown",
   "metadata": {
    "id": "tJHNJVclM6d9"
   },
   "source": [
    "Visualisation of the Correlation using a heatmap plot "
   ]
  },
  {
   "cell_type": "code",
   "execution_count": 267,
   "metadata": {
    "colab": {
     "base_uri": "https://localhost:8080/",
     "height": 0
    },
    "id": "Pts5EBa2MWdk",
    "outputId": "3bec17e4-5274-410e-9a5b-6b43246a6023"
   },
   "outputs": [
    {
     "data": {
      "text/plain": [
       "<matplotlib.axes._subplots.AxesSubplot at 0x7fb61d11a410>"
      ]
     },
     "execution_count": 267,
     "metadata": {},
     "output_type": "execute_result"
    },
    {
     "data": {
      "image/png": "[encoded data removed]",
      "text/plain": [
       "<Figure size 864x576 with 2 Axes>"
      ]
     },
     "metadata": {},
     "output_type": "display_data"
    }
   ],
   "source": [
    "fig, ax = plt.subplots(figsize=(12, 8))\n",
    "sns.heatmap(model_data.corr(), cmap='coolwarm')"
   ]
  },
  {
   "cell_type": "markdown",
   "metadata": {
    "id": "fl_XVa3ZVD0v"
   },
   "source": [
    "We will start with hot encoding 'increment_code','opening_eco','opening_name'\n",
    "because they are features with high cardinality"
   ]
  },
  {
   "cell_type": "code",
   "execution_count": 268,
   "metadata": {
    "id": "r0GE69eZVDf4"
   },
   "outputs": [],
   "source": [
    "from sklearn.preprocessing import OneHotEncoder\n",
    "highcard = model_data[['increment_code','opening_eco','opening_name']].copy()\n",
    "sparse_high = OneHotEncoder().fit_transform(highcard)\n",
    "highcard = pd.DataFrame(sparse_high.toarray())"
   ]
  },
  {
   "cell_type": "markdown",
   "metadata": {
    "id": "AoppV5AKVoSe"
   },
   "source": [
    "Preprocessing categorical features"
   ]
  },
  {
   "cell_type": "code",
   "execution_count": 269,
   "metadata": {
    "id": "E7LoXGE6VdQP"
   },
   "outputs": [],
   "source": [
    "cat_features = model_data[[\"rated\", \"victory_status\", \"white_rating_bracket\", \"black_rating_bracket\", \"first_move\"]].copy()\n",
    "cat_features['rated'] = cat_features['rated'].map({False: 0, True:1})\n",
    "cat_features = pd.get_dummies(cat_features)"
   ]
  },
  {
   "cell_type": "markdown",
   "metadata": {
    "id": "8Z3Cb84_XlYH"
   },
   "source": [
    "Scaling numerical features"
   ]
  },
  {
   "cell_type": "code",
   "execution_count": 270,
   "metadata": {
    "id": "li-tmwi9XlDp"
   },
   "outputs": [],
   "source": [
    "from sklearn.preprocessing import MinMaxScaler\n",
    "num_features = model_data[[\"turns\", \"rating_diff\", \"opening_ply\"]].copy()\n",
    "\n",
    "MinMax = MinMaxScaler(feature_range=(-1,1))  \n",
    "df_arr = MinMax.fit_transform(num_features)\n",
    "\n",
    "num_features  = pd.DataFrame(df_arr, index=model_data.index)\n",
    "num_features.columns = [\"turns\", \"rating_diff\", \"opening_ply\"]"
   ]
  },
  {
   "cell_type": "code",
   "execution_count": 271,
   "metadata": {
    "colab": {
     "base_uri": "https://localhost:8080/"
    },
    "id": "03X4aoHgndpj",
    "outputId": "f32af056-0271-493c-b25f-97bec5530ff6"
   },
   "outputs": [
    {
     "data": {
      "text/plain": [
       "((19108, 44), (19108, 3), (19108, 875))"
      ]
     },
     "execution_count": 271,
     "metadata": {},
     "output_type": "execute_result"
    }
   ],
   "source": [
    "cat_features.shape,num_features.shape,highcard.shape"
   ]
  },
  {
   "cell_type": "code",
   "execution_count": 272,
   "metadata": {
    "id": "SvHnwtZ7ZYTJ"
   },
   "outputs": [],
   "source": [
    "model_data = pd.concat([cat_features,num_features,highcard], axis=1)"
   ]
  },
  {
   "cell_type": "code",
   "execution_count": 273,
   "metadata": {
    "colab": {
     "base_uri": "https://localhost:8080/"
    },
    "id": "esz0EVxBYXwf",
    "outputId": "4b2dca5b-1bd4-45da-bd14-52f227658f5b"
   },
   "outputs": [
    {
     "data": {
      "text/plain": [
       "(19108, 922)"
      ]
     },
     "execution_count": 273,
     "metadata": {},
     "output_type": "execute_result"
    }
   ],
   "source": [
    "model_data.shape"
   ]
  },
  {
   "cell_type": "code",
   "execution_count": 274,
   "metadata": {
    "id": "r-VV0B0S3Dae"
   },
   "outputs": [],
   "source": [
    "model_data.columns = model_data.columns.astype('str')"
   ]
  },
  {
   "cell_type": "markdown",
   "metadata": {
    "id": "z9ONe1CpkN3c"
   },
   "source": [
    "# Model building"
   ]
  },
  {
   "cell_type": "code",
   "execution_count": 275,
   "metadata": {
    "id": "4YEj7Uc82pf8"
   },
   "outputs": [],
   "source": [
    "#Modelling libraries\n",
    "from sklearn.model_selection import train_test_split\n",
    "from sklearn import tree\n",
    "from sklearn.metrics import classification_report, plot_confusion_matrix\n",
    "from sklearn.naive_bayes import GaussianNB\n",
    "from sklearn.ensemble import RandomForestClassifier\n",
    "from sklearn.neighbors import KNeighborsClassifier\n",
    "from sklearn.svm import SVC"
   ]
  },
  {
   "cell_type": "code",
   "execution_count": 276,
   "metadata": {
    "id": "xdpqyTBLePBE"
   },
   "outputs": [],
   "source": [
    "X = model_data\n",
    "y = data[\"winner\"]"
   ]
  },
  {
   "cell_type": "markdown",
   "metadata": {
    "id": "yP4hSOXwjCOt"
   },
   "source": [
    "Creating a train/test split"
   ]
  },
  {
   "cell_type": "code",
   "execution_count": 277,
   "metadata": {
    "colab": {
     "base_uri": "https://localhost:8080/"
    },
    "id": "CxqlrKDLjBgq",
    "outputId": "f1eb0cee-8568-4332-cc18-ed43e5d6216c"
   },
   "outputs": [
    {
     "data": {
      "text/plain": [
       "((15286, 922), (15286,), (3822, 922), (3822,))"
      ]
     },
     "execution_count": 277,
     "metadata": {},
     "output_type": "execute_result"
    }
   ],
   "source": [
    "x_train, x_test, y_train, y_test = train_test_split(X, y, test_size=0.2, random_state=5)\n",
    "x_train.shape, y_train.shape, x_test.shape, y_test.shape"
   ]
  },
  {
   "cell_type": "code",
   "execution_count": 278,
   "metadata": {
    "id": "WEHPDquXkCz9"
   },
   "outputs": [],
   "source": [
    "dt_clf = tree.DecisionTreeClassifier(criterion='entropy')\n",
    "nb_clf = GaussianNB(var_smoothing=0.5)\n",
    "rf_clf = RandomForestClassifier(criterion='entropy')\n",
    "knn_clf = KNeighborsClassifier(n_neighbors = 5, metric = 'minkowski', p = 2)\n",
    "svc_clf = SVC()"
   ]
  },
  {
   "cell_type": "code",
   "execution_count": 279,
   "metadata": {
    "colab": {
     "base_uri": "https://localhost:8080/"
    },
    "id": "q3HD9WR7kyJt",
    "outputId": "b9482952-7bbb-4744-d389-238bf630fa1e"
   },
   "outputs": [
    {
     "data": {
      "text/plain": [
       "SVC()"
      ]
     },
     "execution_count": 279,
     "metadata": {},
     "output_type": "execute_result"
    }
   ],
   "source": [
    "dt_clf.fit(x_train, y_train)\n",
    "nb_clf.fit(x_train, y_train)\n",
    "rf_clf.fit(x_train, y_train)\n",
    "knn_clf.fit(x_train, y_train)\n",
    "svc_clf.fit(x_train,y_train)"
   ]
  },
  {
   "cell_type": "code",
   "execution_count": 280,
   "metadata": {
    "id": "sLZrIlb3heqk"
   },
   "outputs": [],
   "source": [
    "dt_score = dt_clf.score(x_test, y_test)\n",
    "nb_score = nb_clf.score(x_test, y_test)\n",
    "rf_score = rf_clf.score(x_test, y_test)\n",
    "knn_score = knn_clf.score(x_test, y_test)\n",
    "svc_score = svc_clf.score(x_test, y_test)"
   ]
  },
  {
   "cell_type": "code",
   "execution_count": 281,
   "metadata": {
    "id": "VfrBrtQRlysK"
   },
   "outputs": [],
   "source": [
    "score_list = [dt_score, nb_score, rf_score, knn_score, svc_score]"
   ]
  },
  {
   "cell_type": "code",
   "execution_count": 282,
   "metadata": {
    "colab": {
     "base_uri": "https://localhost:8080/",
     "height": 481
    },
    "id": "IPCQ27ammEcu",
    "outputId": "0774bd2c-d35f-470b-9bf0-1f5d3c01c9bb"
   },
   "outputs": [
    {
     "data": {
      "text/plain": [
       "Text(0.5, 1.0, 'Accuracy Score for Different Classification Models')"
      ]
     },
     "execution_count": 282,
     "metadata": {},
     "output_type": "execute_result"
    },
    {
     "data": {
      "image/png": "[encoded data removed]",
      "text/plain": [
       "<Figure size 720x504 with 1 Axes>"
      ]
     },
     "metadata": {},
     "output_type": "display_data"
    }
   ],
   "source": [
    "plt.figure(figsize=(10,7))\n",
    "\n",
    "models_list = ['DecisionTree', 'Naive Bayes', 'RandomForest', 'KNN', 'SVC']\n",
    "\n",
    "chart = sns.barplot(x=models_list, y=score_list)\n",
    "plt.xlabel('Classifiers')\n",
    "plt.ylabel('Score')\n",
    "\n",
    "plt.title('Accuracy Score for Different Classification Models')"
   ]
  },
  {
   "cell_type": "markdown",
   "metadata": {
    "id": "OkI0OXNQpTmQ"
   },
   "source": [
    "Results of the best performing model"
   ]
  },
  {
   "cell_type": "code",
   "execution_count": 283,
   "metadata": {
    "colab": {
     "base_uri": "https://localhost:8080/"
    },
    "id": "JDXokFbDbvb5",
    "outputId": "2c0ff0a7-1e93-4ac2-dc2f-43ea0ccf33f3"
   },
   "outputs": [
    {
     "name": "stdout",
     "output_type": "stream",
     "text": [
      "              precision    recall  f1-score   support\n",
      "\n",
      "       black       0.70      0.72      0.71      1767\n",
      "       white       0.75      0.73      0.74      2055\n",
      "\n",
      "    accuracy                           0.73      3822\n",
      "   macro avg       0.72      0.73      0.73      3822\n",
      "weighted avg       0.73      0.73      0.73      3822\n",
      "\n"
     ]
    }
   ],
   "source": [
    "print(classification_report(y_true=y_test, y_pred=dt_clf.predict(x_test)))"
   ]
  },
  {
   "cell_type": "code",
   "execution_count": 284,
   "metadata": {
    "colab": {
     "base_uri": "https://localhost:8080/",
     "height": 357
    },
    "id": "WQsYAEDLcC_z",
    "outputId": "9e3f57d1-5595-4d44-874a-592cf2b96dec"
   },
   "outputs": [
    {
     "name": "stdout",
     "output_type": "stream",
     "text": [
      "<sklearn.metrics._plot.confusion_matrix.ConfusionMatrixDisplay object at 0x7fb6341f8290>\n"
     ]
    },
    {
     "name": "stderr",
     "output_type": "stream",
     "text": [
      "/usr/local/lib/python3.7/dist-packages/sklearn/utils/deprecation.py:87: FutureWarning: Function plot_confusion_matrix is deprecated; Function `plot_confusion_matrix` is deprecated in 1.0 and will be removed in 1.2. Use one of the class methods: ConfusionMatrixDisplay.from_predictions or ConfusionMatrixDisplay.from_estimator.\n",
      "  warnings.warn(msg, category=FutureWarning)\n"
     ]
    },
    {
     "data": {
      "image/png": "[encoded data removed]",
      "text/plain": [
       "<Figure size 432x288 with 2 Axes>"
      ]
     },
     "metadata": {},
     "output_type": "display_data"
    }
   ],
   "source": [
    "print(plot_confusion_matrix(clf, x_test, y_test))"
   ]
  },
  {
   "cell_type": "markdown",
   "metadata": {
    "id": "2yAOQ4iazn89"
   },
   "source": [
    "Visualization of part of the decision tree with a depth = 4 "
   ]
  },
  {
   "cell_type": "code",
   "execution_count": 285,
   "metadata": {
    "colab": {
     "base_uri": "https://localhost:8080/",
     "height": 955
    },
    "id": "xMqyX7fCx-rp",
    "outputId": "42a53cfe-3dc2-4043-958a-d9826487efa6"
   },
   "outputs": [
    {
     "data": {
      "image/png": "[encoded data removed]",
      "text/plain": [
       "<Figure size 1656x1224 with 1 Axes>"
      ]
     },
     "metadata": {},
     "output_type": "display_data"
    }
   ],
   "source": [
    "from sklearn import tree\n",
    "tree_class2 = tree.DecisionTreeClassifier(criterion='entropy', max_depth=4)\n",
    "\n",
    "tree_class2.fit(x_train,y_train)\n",
    "plt.figure(figsize=(23,17))\n",
    "tree.plot_tree(tree_class2, \n",
    "               fontsize=9,  # text font size\n",
    "               filled=True, # background color on each node\n",
    "               class_names=tree_class2.classes_, # match class/target id with target/Iris type\n",
    "              )\n",
    "plt.show()"
   ]
  }
 ],
 "metadata": {
  "colab": {
   "collapsed_sections": [
    "yt9txEOh3zJ9",
    "tghPUYGs6jfE",
    "jU1fOWyui85w"
   ],
   "name": "FDD_projet.ipynb",
   "provenance": []
  },
  "kernelspec": {
   "display_name": "Python 3 (ipykernel)",
   "language": "python",
   "name": "python3"
  },
  "language_info": {
   "codemirror_mode": {
    "name": "ipython",
    "version": 3
   },
   "file_extension": ".py",
   "mimetype": "text/x-python",
   "name": "python",
   "nbconvert_exporter": "python",
   "pygments_lexer": "ipython3",
   "version": "3.7.11"
  }
 },
 "nbformat": 4,
 "nbformat_minor": 1
}
